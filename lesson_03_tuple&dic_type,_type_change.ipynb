{
  "cells": [
    {
      "cell_type": "markdown",
      "metadata": {
        "id": "view-in-github",
        "colab_type": "text"
      },
      "source": [
        "<a href=\"https://colab.research.google.com/github/tjdude/python/blob/main/lesson_03_tuple%26dic_type%2C_type_change.ipynb\" target=\"_parent\"><img src=\"https://colab.research.google.com/assets/colab-badge.svg\" alt=\"Open In Colab\"/></a>"
      ]
    },
    {
      "cell_type": "markdown",
      "metadata": {
        "id": "cCOOOfI6j2bE"
      },
      "source": [
        "### Tuple Function\n",
        "    list보다 같은 데이터를 가졌을 때 공간을 적게 사용"
      ]
    },
    {
      "cell_type": "code",
      "execution_count": 1,
      "metadata": {
        "id": "EQ9-aEB8j2bI",
        "colab": {
          "base_uri": "https://localhost:8080/"
        },
        "outputId": "ef2d3f09-2d0c-4109-962f-2253999b09e3"
      },
      "outputs": [
        {
          "output_type": "execute_result",
          "data": {
            "text/plain": [
              "(tuple, tuple, (1, 2, 3), (4, 5, 6))"
            ]
          },
          "metadata": {},
          "execution_count": 1
        }
      ],
      "source": [
        "tp1 = 1,2,3\n",
        "tp2 = (4,5,6)\n",
        "type(tp1), type(tp2), tp1, tp2"
      ]
    },
    {
      "cell_type": "code",
      "execution_count": 2,
      "metadata": {
        "id": "qG08grXUj2bJ",
        "colab": {
          "base_uri": "https://localhost:8080/"
        },
        "outputId": "b0e59c23-6c34-4baa-81e6-65e7bbfccd0b"
      },
      "outputs": [
        {
          "output_type": "execute_result",
          "data": {
            "text/plain": [
              "(10, 20)"
            ]
          },
          "metadata": {},
          "execution_count": 2
        }
      ],
      "source": [
        "a, b = 10, 20\n",
        "a, b"
      ]
    },
    {
      "cell_type": "markdown",
      "metadata": {
        "id": "WbzpX4Sqj2bK"
      },
      "source": [
        "#### list와 마찬가지로 offset index 사용 가능"
      ]
    },
    {
      "cell_type": "code",
      "execution_count": 4,
      "metadata": {
        "id": "ySNMfXqOj2bK",
        "colab": {
          "base_uri": "https://localhost:8080/"
        },
        "outputId": "dd646b8a-f630-4307-9637-95268dccb1ee"
      },
      "outputs": [
        {
          "output_type": "execute_result",
          "data": {
            "text/plain": [
              "(1, (6, 5, 4))"
            ]
          },
          "metadata": {},
          "execution_count": 4
        }
      ],
      "source": [
        "tp1[0], tp2[::-1]"
      ]
    },
    {
      "cell_type": "markdown",
      "metadata": {
        "id": "4T34IxLfj2bL"
      },
      "source": [
        "#### list와 tuple의 저장공간 비교"
      ]
    },
    {
      "cell_type": "code",
      "execution_count": 5,
      "metadata": {
        "id": "antsMB4Oj2bL",
        "colab": {
          "base_uri": "https://localhost:8080/"
        },
        "outputId": "724f6fa5-0c84-4f7c-a0ea-2760269d53f5"
      },
      "outputs": [
        {
          "output_type": "stream",
          "name": "stdout",
          "text": [
            "96 80\n"
          ]
        }
      ],
      "source": [
        "import sys\n",
        "\n",
        "ls = [1,2,3]\n",
        "tp = (1,2,3)\n",
        "print(sys.getsizeof(ls), sys.getsizeof(tp))"
      ]
    },
    {
      "cell_type": "markdown",
      "metadata": {
        "id": "NYH3itGuj2bM"
      },
      "source": [
        "#### tuple 활용\n",
        "    절대로 변경이 되어선 안되는 데이터를 작성하는 경우"
      ]
    },
    {
      "cell_type": "code",
      "execution_count": 7,
      "metadata": {
        "id": "OhmJtql8j2bM",
        "colab": {
          "base_uri": "https://localhost:8080/"
        },
        "outputId": "6c137c08-674d-4667-8821-dbe6b6a4b193"
      },
      "outputs": [
        {
          "output_type": "stream",
          "name": "stdout",
          "text": [
            "<class 'tuple'> (0, 0.003)\n",
            "<class 'tuple'> (100000, (0, 0.003))\n",
            "300.0\n"
          ]
        }
      ],
      "source": [
        "# 카드 포인트 적립\n",
        "rate = (0, 0.003)\n",
        "print(type(rate), rate)\n",
        "card = 100_000 #100,000\n",
        "point = (card, rate)\n",
        "print(type(point), point)\n",
        "\n",
        "point_combi = point[0] * point[1][1]\n",
        "print(point_combi)"
      ]
    },
    {
      "cell_type": "markdown",
      "source": [
        "### Dictionary(dict)\n",
        "    순서가 없고 {키:값}으로 구성되어 있는 데이터 타입"
      ],
      "metadata": {
        "id": "MMNuiLKMkRhp"
      }
    },
    {
      "cell_type": "code",
      "execution_count": 8,
      "metadata": {
        "id": "tG2RU8BJj2bM",
        "colab": {
          "base_uri": "https://localhost:8080/"
        },
        "outputId": "69c2bc98-a7c6-4fa7-9ef7-2123adcdb293"
      },
      "outputs": [
        {
          "output_type": "execute_result",
          "data": {
            "text/plain": [
              "(dict, {1: '첫 번째', 3: [3, 4, 5], 'key': 'value', 'second': 2})"
            ]
          },
          "metadata": {},
          "execution_count": 8
        }
      ],
      "source": [
        "dic = {\n",
        "    \"key\":\"value\",\n",
        "    1 : \"첫 번째\",\n",
        "    \"second\" : 2,\n",
        "    3 : [3, 4, 5]\n",
        "}\n",
        "type(dic), dic"
      ]
    },
    {
      "cell_type": "code",
      "execution_count": 9,
      "metadata": {
        "id": "eGodFMlqj2bM",
        "colab": {
          "base_uri": "https://localhost:8080/"
        },
        "outputId": "80018bbe-2f33-4f6e-8e9e-f130d5ca73c3"
      },
      "outputs": [
        {
          "output_type": "execute_result",
          "data": {
            "text/plain": [
              "{'DEEP:PHI': 'https://www.deepphi.ai/home',\n",
              " 'deepnoid': 'https://www.deepnoid.com/'}"
            ]
          },
          "metadata": {},
          "execution_count": 9
        }
      ],
      "source": [
        "# key와 value를 하나씩 직접 입력하여 작성하는 방법\n",
        "dic2 = {}\n",
        "dic2['DEEP:PHI'] = 'https://www.deepphi.ai/home'\n",
        "dic2['deepnoid'] = 'https://www.deepnoid.com/'\n",
        "dic2"
      ]
    },
    {
      "cell_type": "markdown",
      "source": [
        "#### dict 출력방법\n",
        "    dict[key값]"
      ],
      "metadata": {
        "id": "USdIb8YwkVZh"
      }
    },
    {
      "cell_type": "code",
      "execution_count": 29,
      "metadata": {
        "id": "AK38Gno7j2bN",
        "colab": {
          "base_uri": "https://localhost:8080/",
          "height": 172
        },
        "outputId": "e7290e37-b376-4121-ddfa-31eb6687431f"
      },
      "outputs": [
        {
          "output_type": "error",
          "ename": "KeyError",
          "evalue": "ignored",
          "traceback": [
            "\u001b[0;31m---------------------------------------------------------------------------\u001b[0m",
            "\u001b[0;31mKeyError\u001b[0m                                  Traceback (most recent call last)",
            "\u001b[0;32m<ipython-input-29-7eb74b6d2f47>\u001b[0m in \u001b[0;36m<module>\u001b[0;34m()\u001b[0m\n\u001b[0;32m----> 1\u001b[0;31m \u001b[0mdic\u001b[0m\u001b[0;34m[\u001b[0m\u001b[0;36m1\u001b[0m\u001b[0;34m]\u001b[0m\u001b[0;34m,\u001b[0m \u001b[0mdic\u001b[0m\u001b[0;34m[\u001b[0m\u001b[0;34m\"second\"\u001b[0m\u001b[0;34m]\u001b[0m\u001b[0;34m\u001b[0m\u001b[0;34m\u001b[0m\u001b[0m\n\u001b[0m",
            "\u001b[0;31mKeyError\u001b[0m: 1"
          ]
        }
      ],
      "source": [
        "dic[1], dic[\"second\"]"
      ]
    },
    {
      "cell_type": "code",
      "source": [
        "dic[0] # 순서가 없는 데이터 타입이므로 index를 사용할 수 없음"
      ],
      "metadata": {
        "id": "KmRhgti6kXXp",
        "colab": {
          "base_uri": "https://localhost:8080/",
          "height": 172
        },
        "outputId": "17506f22-8d5a-4b17-8f96-d66a07f02846"
      },
      "execution_count": 11,
      "outputs": [
        {
          "output_type": "error",
          "ename": "KeyError",
          "evalue": "ignored",
          "traceback": [
            "\u001b[0;31m---------------------------------------------------------------------------\u001b[0m",
            "\u001b[0;31mKeyError\u001b[0m                                  Traceback (most recent call last)",
            "\u001b[0;32m<ipython-input-11-81d649b08667>\u001b[0m in \u001b[0;36m<module>\u001b[0;34m()\u001b[0m\n\u001b[0;32m----> 1\u001b[0;31m \u001b[0mdic\u001b[0m\u001b[0;34m[\u001b[0m\u001b[0;36m0\u001b[0m\u001b[0;34m]\u001b[0m \u001b[0;31m# 순서가 없는 데이터 타입이므로 index를 사용할 수 없음\u001b[0m\u001b[0;34m\u001b[0m\u001b[0;34m\u001b[0m\u001b[0m\n\u001b[0m",
            "\u001b[0;31mKeyError\u001b[0m: 0"
          ]
        }
      ]
    },
    {
      "cell_type": "markdown",
      "source": [
        "#### dict형 데이터 타입 key, value값 확인\n",
        "    keys() : key값을 확인\n",
        "    values() : value값을 확인\n",
        "        각각 리스트 타입으로 출력\n",
        "    items() : key, value의 쌍으로 출력\n",
        "        쌍을 이루고 수정이 불가능하므로 튜플 타입으로 출력\n",
        "        \n",
        "    ※ 주의 : 출력이 각각 list, tuple 타입으로 나타나지만 본래 데이터는 dict 타입이므로 순서가 없음\n",
        "            즉, offset index를 사용할 수 없다!"
      ],
      "metadata": {
        "id": "stLmThIokYsy"
      }
    },
    {
      "cell_type": "code",
      "source": [
        "dic.keys(), dic.values(), dic.items()"
      ],
      "metadata": {
        "id": "rlpx8Go9kbVZ",
        "colab": {
          "base_uri": "https://localhost:8080/"
        },
        "outputId": "999b01af-e8ff-4933-c16c-dbd4d58ed575"
      },
      "execution_count": 30,
      "outputs": [
        {
          "output_type": "execute_result",
          "data": {
            "text/plain": [
              "(dict_keys(['Supervised learning', 'Unsupervised learning', 'Reinforcement learning']),\n",
              " dict_values(['classification', 'clustering', 'game AI']),\n",
              " dict_items([('Supervised learning', 'classification'), ('Unsupervised learning', 'clustering'), ('Reinforcement learning', 'game AI')]))"
            ]
          },
          "metadata": {},
          "execution_count": 30
        }
      ]
    },
    {
      "cell_type": "code",
      "source": [
        "for keys in dic.keys():\n",
        " print(key)"
      ],
      "metadata": {
        "id": "y6IiaawSkcUV",
        "colab": {
          "base_uri": "https://localhost:8080/",
          "height": 190
        },
        "outputId": "65e0d698-15ae-4046-abd1-6aa86af963c1"
      },
      "execution_count": 31,
      "outputs": [
        {
          "output_type": "error",
          "ename": "NameError",
          "evalue": "ignored",
          "traceback": [
            "\u001b[0;31m---------------------------------------------------------------------------\u001b[0m",
            "\u001b[0;31mNameError\u001b[0m                                 Traceback (most recent call last)",
            "\u001b[0;32m<ipython-input-31-4740eb400fbd>\u001b[0m in \u001b[0;36m<module>\u001b[0;34m()\u001b[0m\n\u001b[1;32m      1\u001b[0m \u001b[0;32mfor\u001b[0m \u001b[0mkeys\u001b[0m \u001b[0;32min\u001b[0m \u001b[0mdic\u001b[0m\u001b[0;34m.\u001b[0m\u001b[0mkeys\u001b[0m\u001b[0;34m(\u001b[0m\u001b[0;34m)\u001b[0m\u001b[0;34m:\u001b[0m\u001b[0;34m\u001b[0m\u001b[0;34m\u001b[0m\u001b[0m\n\u001b[0;32m----> 2\u001b[0;31m  \u001b[0mprint\u001b[0m\u001b[0;34m(\u001b[0m\u001b[0mkey\u001b[0m\u001b[0;34m)\u001b[0m\u001b[0;34m\u001b[0m\u001b[0;34m\u001b[0m\u001b[0m\n\u001b[0m",
            "\u001b[0;31mNameError\u001b[0m: name 'key' is not defined"
          ]
        }
      ]
    },
    {
      "cell_type": "code",
      "source": [
        "for items in dic.items():\n",
        "  print(items)"
      ],
      "metadata": {
        "id": "P3bYtRULkdsR",
        "colab": {
          "base_uri": "https://localhost:8080/"
        },
        "outputId": "092af8fd-93c4-4190-ad0d-0c39442e5757"
      },
      "execution_count": 32,
      "outputs": [
        {
          "output_type": "stream",
          "name": "stdout",
          "text": [
            "('Supervised learning', 'classification')\n",
            "('Unsupervised learning', 'clustering')\n",
            "('Reinforcement learning', 'game AI')\n"
          ]
        }
      ]
    },
    {
      "cell_type": "markdown",
      "source": [
        "### length 구하기\n",
        "    문자열, list, tuple, dict 타입의 경우 데이터의 길이(혹은 갯수)를 셀 수 있음\n",
        "```python\n",
        "len(구하고자 하는 데이터타입)\n",
        "```"
      ],
      "metadata": {
        "id": "g_14zkJQkf7a"
      }
    },
    {
      "cell_type": "code",
      "source": [
        "# string type\n",
        "text = \"hello python\"\n",
        "len(text) #공백을 포함한 길이"
      ],
      "metadata": {
        "id": "wAS9O_TbkeYh",
        "colab": {
          "base_uri": "https://localhost:8080/"
        },
        "outputId": "00a20e3f-8a27-4721-d395-9ff0e15f331a"
      },
      "execution_count": 16,
      "outputs": [
        {
          "output_type": "execute_result",
          "data": {
            "text/plain": [
              "12"
            ]
          },
          "metadata": {},
          "execution_count": 16
        }
      ]
    },
    {
      "cell_type": "code",
      "source": [
        "# list type\n",
        "tp = (10, 20, 30, 40)\n",
        "len(tp)"
      ],
      "metadata": {
        "id": "3-EIQCTMkh5x",
        "colab": {
          "base_uri": "https://localhost:8080/"
        },
        "outputId": "39db79a0-7102-4044-9e81-553d63fcac3b"
      },
      "execution_count": 17,
      "outputs": [
        {
          "output_type": "execute_result",
          "data": {
            "text/plain": [
              "4"
            ]
          },
          "metadata": {},
          "execution_count": 17
        }
      ]
    },
    {
      "cell_type": "code",
      "source": [
        "#list type\n",
        "ls = [1, 2, 3, 4, 5]\n",
        "len(ls)"
      ],
      "metadata": {
        "id": "-vtRY7dxkh2h"
      },
      "execution_count": null,
      "outputs": []
    },
    {
      "cell_type": "code",
      "source": [
        "# tuple type\n",
        "tp = (10,20,30,40)\n",
        "len(tp)"
      ],
      "metadata": {
        "id": "6GG3IGfzkhz5",
        "colab": {
          "base_uri": "https://localhost:8080/"
        },
        "outputId": "c3b1d752-147f-4bdc-aa06-b7796bb4c0f7"
      },
      "execution_count": 33,
      "outputs": [
        {
          "output_type": "execute_result",
          "data": {
            "text/plain": [
              "4"
            ]
          },
          "metadata": {},
          "execution_count": 33
        }
      ]
    },
    {
      "cell_type": "code",
      "source": [
        "# dict type도 가능할까?\n",
        "dic = { 0:\"kim\", 1:\"python\", 2:\"date\"}\n",
        "len(dic)"
      ],
      "metadata": {
        "id": "Bup_hL5UkkgJ",
        "colab": {
          "base_uri": "https://localhost:8080/"
        },
        "outputId": "93a742d8-ec45-49c4-9909-8d8d9836601f"
      },
      "execution_count": 34,
      "outputs": [
        {
          "output_type": "execute_result",
          "data": {
            "text/plain": [
              "3"
            ]
          },
          "metadata": {},
          "execution_count": 34
        }
      ]
    },
    {
      "cell_type": "markdown",
      "source": [
        "### Type change\n",
        "    - 데이터 타입을 변환하는 방법\n",
        "    - 형태의 종류\n",
        "        int, float, bool, str, list, tuple, dict"
      ],
      "metadata": {
        "id": "EJtPSUhnkmo6"
      }
    },
    {
      "cell_type": "code",
      "source": [
        "type(dic.values())"
      ],
      "metadata": {
        "id": "n_fH08Vjkonx",
        "colab": {
          "base_uri": "https://localhost:8080/"
        },
        "outputId": "b48cd1f6-f937-41cd-f220-a8dc27361ecf"
      },
      "execution_count": 18,
      "outputs": [
        {
          "output_type": "execute_result",
          "data": {
            "text/plain": [
              "dict_values"
            ]
          },
          "metadata": {},
          "execution_count": 18
        }
      ]
    },
    {
      "cell_type": "code",
      "source": [
        "type(list(dic.values()))"
      ],
      "metadata": {
        "id": "-GvdXtldkpxJ",
        "colab": {
          "base_uri": "https://localhost:8080/"
        },
        "outputId": "4dc75bb7-6e57-4535-cee6-2e95f5e0a184"
      },
      "execution_count": 19,
      "outputs": [
        {
          "output_type": "execute_result",
          "data": {
            "text/plain": [
              "list"
            ]
          },
          "metadata": {},
          "execution_count": 19
        }
      ]
    },
    {
      "cell_type": "code",
      "source": [
        "dic_list = list(dic.values())\n",
        "dic_list[0]"
      ],
      "metadata": {
        "id": "C6oc37pJkqlJ",
        "colab": {
          "base_uri": "https://localhost:8080/",
          "height": 35
        },
        "outputId": "6d132445-e44b-438a-8e84-2e54c32c05be"
      },
      "execution_count": 20,
      "outputs": [
        {
          "output_type": "execute_result",
          "data": {
            "text/plain": [
              "'value'"
            ],
            "application/vnd.google.colaboratory.intrinsic+json": {
              "type": "string"
            }
          },
          "metadata": {},
          "execution_count": 20
        }
      ]
    },
    {
      "cell_type": "code",
      "source": [
        "a=1\n",
        "print(type(a),a)\n",
        "\n",
        "b = float(a)\n",
        "print(type(b),b)\n",
        "\n",
        "c = str(b)\n",
        "print(type(c),c)"
      ],
      "metadata": {
        "id": "2MEkLrR1krXB",
        "colab": {
          "base_uri": "https://localhost:8080/"
        },
        "outputId": "04491945-c74c-43ee-9266-0207fa64b7b9"
      },
      "execution_count": 22,
      "outputs": [
        {
          "output_type": "stream",
          "name": "stdout",
          "text": [
            "<class 'int'> 1\n",
            "<class 'float'> 1.0\n",
            "<class 'str'> 1.0\n"
          ]
        }
      ]
    },
    {
      "cell_type": "markdown",
      "source": [
        "#### list -> dict로 만들기\n",
        "    zip : 같은 index끼리 묶어주는 함수"
      ],
      "metadata": {
        "id": "A2_eOW6-kw4U"
      }
    },
    {
      "cell_type": "code",
      "source": [
        "classes = ['Supervised learning', 'Unsupervised learning', 'Reinforcement learning']\n",
        "subject = ['classification', 'clustering', 'game AI']\n",
        "dic = dict(zip(classes, subject))"
      ],
      "metadata": {
        "id": "iAbnwtWbkweT"
      },
      "execution_count": 23,
      "outputs": []
    },
    {
      "cell_type": "code",
      "source": [
        "dict(zip(classes, subject))\n",
        "type(dic)"
      ],
      "metadata": {
        "id": "LFrDjRmrkyyZ",
        "colab": {
          "base_uri": "https://localhost:8080/"
        },
        "outputId": "e4b913f1-4035-43e9-d50f-974923c60ecc"
      },
      "execution_count": 24,
      "outputs": [
        {
          "output_type": "execute_result",
          "data": {
            "text/plain": [
              "dict"
            ]
          },
          "metadata": {},
          "execution_count": 24
        }
      ]
    },
    {
      "cell_type": "code",
      "source": [
        "dic"
      ],
      "metadata": {
        "colab": {
          "base_uri": "https://localhost:8080/"
        },
        "id": "aFH16uQjBfMv",
        "outputId": "337c9179-e79f-4ff5-d403-171906236c73"
      },
      "execution_count": 25,
      "outputs": [
        {
          "output_type": "execute_result",
          "data": {
            "text/plain": [
              "{'Reinforcement learning': 'game AI',\n",
              " 'Supervised learning': 'classification',\n",
              " 'Unsupervised learning': 'clustering'}"
            ]
          },
          "metadata": {},
          "execution_count": 25
        }
      ]
    }
  ],
  "metadata": {
    "kernelspec": {
      "display_name": "Python 3",
      "language": "python",
      "name": "python3"
    },
    "language_info": {
      "codemirror_mode": {
        "name": "ipython",
        "version": 3
      },
      "file_extension": ".py",
      "mimetype": "text/x-python",
      "name": "python",
      "nbconvert_exporter": "python",
      "pygments_lexer": "ipython3",
      "version": "3.8.5"
    },
    "toc": {
      "base_numbering": 1,
      "nav_menu": {},
      "number_sections": true,
      "sideBar": true,
      "skip_h1_title": false,
      "title_cell": "Table of Contents",
      "title_sidebar": "Contents",
      "toc_cell": false,
      "toc_position": {},
      "toc_section_display": true,
      "toc_window_display": false
    },
    "colab": {
      "name": "lesson 03. tuple&dic type, type change.ipynb",
      "provenance": [],
      "collapsed_sections": [],
      "include_colab_link": true
    }
  },
  "nbformat": 4,
  "nbformat_minor": 0
}