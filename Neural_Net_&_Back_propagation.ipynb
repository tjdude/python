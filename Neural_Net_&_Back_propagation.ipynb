{
  "nbformat": 4,
  "nbformat_minor": 0,
  "metadata": {
    "colab": {
      "name": "Neural_Net_&_Back_propagation.ipynb",
      "private_outputs": true,
      "provenance": [],
      "collapsed_sections": [],
      "include_colab_link": true
    },
    "kernelspec": {
      "name": "python3",
      "display_name": "Python 3"
    },
    "language_info": {
      "name": "python"
    }
  },
  "cells": [
    {
      "cell_type": "markdown",
      "metadata": {
        "id": "view-in-github",
        "colab_type": "text"
      },
      "source": [
        "<a href=\"https://colab.research.google.com/github/tjdude/python/blob/main/Neural_Net_%26_Back_propagation.ipynb\" target=\"_parent\"><img src=\"https://colab.research.google.com/assets/colab-badge.svg\" alt=\"Open In Colab\"/></a>"
      ]
    },
    {
      "cell_type": "markdown",
      "source": [
        "### Affine Layer"
      ],
      "metadata": {
        "id": "Jzk8zSmPK-cs"
      }
    },
    {
      "cell_type": "code",
      "source": [
        "import numpy as np\n",
        "class Affine:\n",
        "    def __init__(self, W, b):\n",
        "        self.W = W\n",
        "        self.b = b\n",
        "\n",
        "        self.x = None\n",
        "        self.original_x_shape = None\n",
        "        # 가중치와 편향 매개변수의 미분\n",
        "        self.dW = None\n",
        "        self.db = None\n",
        "\n",
        "    def forward(self x):\n",
        "        # for tensor\n",
        "        self.original_x_shape = x.shape\n",
        "        x = x.reshape(x.shape[0], -1)\n",
        "        self.x = x\n",
        "\n",
        "        out = np.dot(self.x, self.W) + self.b\n",
        "\n",
        "        return out\n",
        "\n",
        "    def backward(self, dout):\n",
        "        dx = np.dot\n",
        "        self.dW = np.dot(self.x.T, dout)\n",
        "        self.db = np.sum(dout, axis=0)\n",
        "\n",
        "        dx = dx.reshape(*self.original_x_shape) # 입력 데이터 모양 변경(for tensor)\n",
        "\n",
        "        return dx"
      ],
      "metadata": {
        "id": "sYiZ7EqjK9AB"
      },
      "execution_count": null,
      "outputs": []
    },
    {
      "cell_type": "code",
      "source": [
        ""
      ],
      "metadata": {
        "id": "211qSKmWK87_"
      },
      "execution_count": null,
      "outputs": []
    },
    {
      "cell_type": "markdown",
      "source": [
        "### Softmax function"
      ],
      "metadata": {
        "id": "LRB_G5RLLMci"
      }
    },
    {
      "cell_type": "code",
      "source": [
        "import numpy as np\n",
        "def softmax(x):\n",
        "    if x.ndim == 2:\n",
        "        x = x.T\n",
        "        x = x - np.max(x, axis=0)\n",
        "        y = np.exp(x) / np,sum(np.exp(x), axis=0)\n",
        "\n",
        "        return y.T\n",
        "    \n",
        "    x = x - np.max(x) # 지수함수 특성상 값이 급격히 커지는 오버플로우 방지\n",
        "    \n",
        "    return np.exp(x) / np.sum(np.exp(x))\n"
      ],
      "metadata": {
        "id": "zxOpYLPQK84x"
      },
      "execution_count": null,
      "outputs": []
    },
    {
      "cell_type": "code",
      "source": [
        ""
      ],
      "metadata": {
        "id": "t0dxjBDTK8z9"
      },
      "execution_count": null,
      "outputs": []
    },
    {
      "cell_type": "markdown",
      "source": [
        "### relu function"
      ],
      "metadata": {
        "id": "H0J1w6HHLojK"
      }
    },
    {
      "cell_type": "code",
      "source": [
        "class Relu:\n",
        "    def __init__(self):\n",
        "        self.mask = None\n",
        "\n",
        "    def forward(self, x):\n",
        "        self.mask = (x <= 0)\n",
        "        out = x.copy()\n",
        "        out[self.mask] = 0\n",
        "\n",
        "        return out\n",
        "\n",
        "    def backward(self, dout):\n",
        "        dout[self.mask] = 0\n",
        "        dx = dout\n",
        "\n",
        "        return dx\n",
        "        "
      ],
      "metadata": {
        "id": "kmf9NSCaK8we"
      },
      "execution_count": null,
      "outputs": []
    },
    {
      "cell_type": "code",
      "source": [
        ""
      ],
      "metadata": {
        "id": "5zXv7MxxK8sQ"
      },
      "execution_count": null,
      "outputs": []
    },
    {
      "cell_type": "markdown",
      "source": [
        "### cross-entropy & softmax with loss"
      ],
      "metadata": {
        "id": "mPH_DnKVMEGj"
      }
    },
    {
      "cell_type": "code",
      "source": [
        "class SoftmaxWithLoss:\n",
        "    def __init__(self):\n",
        "        self.loss = None # loss function\n",
        "        self.y = None # softmax output\n",
        "        self.t = None # label, one-hot encoding vector\n",
        "\n",
        "    def forward(self, x, t):\n",
        "        self.t = t\n",
        "        self.y = softmax(x)\n",
        "        self.loss = cross_entropy_error(self.y, self.t)\n",
        "\n",
        "    def backward(self, dout = 1):\n",
        "        batch_size = self.t.shape[0]\n",
        "\n",
        "        if self.t.size == self.y.size: # label이 one-hot encoding vector일때\n",
        "            dx = (self.y - self.t) / batch_size\n",
        "        else:\n",
        "            dx = self.y.copy()\n",
        "            dx[np.arange(batch_size), self.t] -= 1\n",
        "            dx = dx / batch_size\n",
        "\n",
        "        return dx\n"
      ],
      "metadata": {
        "id": "LdU9PIWLK8na"
      },
      "execution_count": null,
      "outputs": []
    },
    {
      "cell_type": "code",
      "source": [
        ""
      ],
      "metadata": {
        "id": "vdyaG3O4M75a"
      },
      "execution_count": null,
      "outputs": []
    },
    {
      "cell_type": "markdown",
      "source": [
        "### numerical gradient"
      ],
      "metadata": {
        "id": "-cUFR3DJM8d9"
      }
    },
    {
      "cell_type": "code",
      "source": [
        "def numerical_gradient(f, x):\n",
        "    h = 1e-4 # 0.0001\n",
        "    grad = np.zeors_like(x)\n",
        "\n",
        "    it = np.nditer(x, flags=['multi_index'], op_flags=['readwrite']) # np.nditer : 편미분\n",
        "\n",
        "    while not it.finished:\n",
        "        idx = it.multi_index\n",
        "        tmp_val = x[idx]\n",
        "        x[idx] = float(tmp_val) + h\n",
        "        fxh1 = f(x) # f(x+h)\n",
        "\n",
        "        x[idx] = tmp_val - h\n",
        "        fxh2 = f(x) # f(x-h)\n",
        "        grad[idx] = (fxh1 - fxh2) / (2*h)\n",
        "\n",
        "        x[idx] = tmp_val # 값 복원\n",
        "        it.iternext()\n",
        "\n",
        "    return grad\n"
      ],
      "metadata": {
        "id": "ZzKkm3mzM70s"
      },
      "execution_count": null,
      "outputs": []
    },
    {
      "cell_type": "code",
      "source": [
        "from collections import OrderedDict class TwoLayerNet:\n",
        "    def __init__(self, input_size, hidden_size, output_size, weight_init_std = 0.01):\n",
        "        # 가중치 초기화         \n",
        "        self.params = {}\n",
        "        self.params['W1'] = weight_init_std * np.random.randn(input_size, hidden_size)\n",
        "        self.params['b1'] = np.zeros(hidden_size)         \n",
        "        self.params['W2'] = weight_init_std * np.random.randn(hidden_size, output_size)          \n",
        "        self.params['b2'] = np.zeros(output_size)\n",
        "\n",
        "        # 계층 생성        \n",
        "        self.layers = OrderedDict()         \n",
        "        self.layers['Affine1'] = Affine(self.params['W1'], self.params['b1'])          \n",
        "        self.layers['Relu1'] = Relu()         \n",
        "        self.layers['Affine2'] = Affine(self.params['W2'], self.params['b2'])\n",
        "        self.lastLayer = SoftmaxWithLoss()              \n",
        "\n",
        "    def predict(self, x):\n",
        "        for layer in self.layers.values():\n",
        "            x = layer.forward(x)                  \n",
        "        \n",
        "        return x              # x : 입력 데이터, t : 정답 레이블     \n",
        "        \n",
        "    def loss(self, x, t):\n",
        "        y = self.predict(x)         \n",
        "        return self.lastLayer.forward(y, t)          \n",
        "        \n",
        "    def accuracy(self, x, t):\n",
        "        y = self.predict(x)         \n",
        "        y = np.argmax(y, axis=1)         \n",
        "        \n",
        "        if t.ndim != 1 : t = np.argmax(t, axis=1)                  \n",
        "        \n",
        "        accuracy = np.sum(y == t) / float(x.shape[0])         \n",
        "        \n",
        "        return accuracy              # x : 입력 데이터, t : 정답 레이블     \n",
        "        \n",
        "    def numerical_gradient(self, x, t):\n",
        "        loss_W = lambda W: self.loss(x, t)                  \n",
        "        grads = {}         \n",
        "        grads['W1'] = numerical_gradient(loss_W, self.params['W1'])         \n",
        "        grads['b1'] = numerical_gradient(loss_W, self.params['b1'])         \n",
        "        grads['W2'] = numerical_gradient(loss_W, self.params['W2'])         \n",
        "        grads['b2'] = numerical_gradient(loss_W, self.params['b2'])                  \n",
        "        \n",
        "        return grads              \n",
        "    def gradient(self, x, t):\n",
        "        # forward         \n",
        "        self.loss(x, t)\n",
        "\n",
        "        # backward         \n",
        "        dout = 1         \n",
        "        dout = self.lastLayer.backward(dout)                  \n",
        "        layers = list(self.layers.values())         \n",
        "        layers.reverse()         \n",
        "\n",
        "        for layer in layers:\n",
        "            dout = layer.backward(dout)\n",
        "\n",
        "        # 결과 저장         \n",
        "        grads = {}         \n",
        "        grads['W1'], grads['b1'] = self.layers['Affine1'].dW, self.layers['Affine1'].db         \n",
        "        grads['W2'], grads['b2'] = self.layers['Affine2'].dW, self.layers['Affine2'].db\n",
        "        \n",
        "        return grads"
      ],
      "metadata": {
        "id": "5nhR2TLLM7wC"
      },
      "execution_count": null,
      "outputs": []
    },
    {
      "cell_type": "code",
      "source": [
        ""
      ],
      "metadata": {
        "id": "5q4jUFP8O3C4"
      },
      "execution_count": null,
      "outputs": []
    },
    {
      "cell_type": "markdown",
      "source": [
        "### MNIST Datasets"
      ],
      "metadata": {
        "id": "MCefYJsAN0Ao"
      }
    },
    {
      "cell_type": "code",
      "source": [
        "import tensorflow as tf\n",
        "# 데이터 읽기 \n",
        "(x_train, y_train), (x_test, y_test)= tf.keras.datasets.mnist.load_data(path='minist.npz') \n",
        "print(x_train.shape, y_train.shape)\n",
        "\n",
        "network = TwoLayerNet(input_size=784, hidden_size=50, output_size=10)\n",
        "x_batch = x_train[:10] y_batch = y_train[:10]\n",
        "grad_numerical = network.numerical_gradient(x_batch, y_batch) grad_backprop = network.gradient(x_batch, y_batch)\n",
        "\n",
        "# 각 가중치의 절대 오차의 평균을 구한다.\n",
        "for key in grad_numerical.keys():\n",
        "    diff = np.average( np.abs(grad_backprop[key] - grad_numerical[key]) )     \n",
        "    print(key + \":\" + str(diff))\n",
        "\n",
        "iters_num = 10000 # 학습 횟수 train_size = x_train.shape[0] batch_size = 100\n",
        "learning_rate = 0.1\n",
        "train_loss_list = [] \n",
        "train_acc_list = [] \n",
        "test_acc_list = []\n",
        "iter_per_epoch = max(train_size / batch_size, 1)\n",
        "\n",
        "for i in range(iters_num):\n",
        "    batch_mask = np.random.choice(train_size, batch_size) # 60000개 데이터셋에서 무작위 인덱싱 획득    \n",
        "    x_batch = x_train[batch_mask] # 데이터셋에서 무작위숫자로      \n",
        "    t_batch = y_train[batch_mask]          \n",
        "    \n",
        "    # 기울기 계산    \n",
        "     #grad = network.numerical_gradient(x_batch, t_batch) # 수치 미분 방식     \n",
        "    grad = network.gradient(x_batch, t_batch) # 오차역전파법 방식(훨씬 빠르다)          \n",
        "    \n",
        "    # 갱신     \n",
        "    for key in ('W1', 'b1', 'W2', 'b2'):\n",
        "        network.params[key] -= learning_rate * grad[key]          \n",
        "        loss = network.loss(x_batch, t_batch)     \n",
        "        train_loss_list.append(loss)          \n",
        "        \n",
        "        if i % iter_per_epoch == 0:\n",
        "            train_acc = network.accuracy(x_train, y_train)         \n",
        "            test_acc = network.accuracy(x_test, y_test)         \n",
        "            train_acc_list.append(train_acc)         \n",
        "            test_acc_list.append(test_acc)         \n",
        "            print(train_acc, test_acc)"
      ],
      "metadata": {
        "id": "wvcJO3MCM7ry"
      },
      "execution_count": null,
      "outputs": []
    },
    {
      "cell_type": "code",
      "source": [
        "train_loss_list ,train_acc_list, test_acc_list "
      ],
      "metadata": {
        "id": "wdZZ9xclM7n2"
      },
      "execution_count": null,
      "outputs": []
    },
    {
      "cell_type": "code",
      "source": [
        ""
      ],
      "metadata": {
        "id": "IvChwtWkM7ix"
      },
      "execution_count": null,
      "outputs": []
    },
    {
      "cell_type": "code",
      "source": [
        ""
      ],
      "metadata": {
        "id": "xRozzSOmM7b5"
      },
      "execution_count": null,
      "outputs": []
    },
    {
      "cell_type": "code",
      "source": [
        ""
      ],
      "metadata": {
        "id": "HL1xl7uxK8Z3"
      },
      "execution_count": null,
      "outputs": []
    }
  ]
}