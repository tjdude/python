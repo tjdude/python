{
  "cells": [
    {
      "cell_type": "markdown",
      "metadata": {
        "id": "view-in-github",
        "colab_type": "text"
      },
      "source": [
        "<a href=\"https://colab.research.google.com/github/tjdude/python/blob/main/lesson_01_python_basic.ipynb\" target=\"_parent\"><img src=\"https://colab.research.google.com/assets/colab-badge.svg\" alt=\"Open In Colab\"/></a>"
      ]
    },
    {
      "cell_type": "markdown",
      "metadata": {
        "id": "zesBx0Tr0Pbd"
      },
      "source": [
        "## 환경구성\n",
        "    Anaconda 환경\n",
        "    jupyter notebook"
      ]
    },
    {
      "cell_type": "markdown",
      "metadata": {
        "id": "-Su0PS8h0Pbj"
      },
      "source": [
        "### Jupyter notebook \n",
        "    mode\n",
        "        - 명령모드(esc)\n",
        "        - 편집모드(셀 선택 후 enter)"
      ]
    },
    {
      "cell_type": "code",
      "execution_count": null,
      "metadata": {
        "id": "d5Y_CXe00Pbl"
      },
      "outputs": [],
      "source": [
        ""
      ]
    },
    {
      "cell_type": "code",
      "execution_count": null,
      "metadata": {
        "id": "PqaLt2EK0Pbn"
      },
      "outputs": [],
      "source": [
        ""
      ]
    },
    {
      "cell_type": "markdown",
      "metadata": {
        "id": "7vQcU6ys0Pbo"
      },
      "source": [
        "    Style\n",
        "        - markdown\n",
        "        - code"
      ]
    },
    {
      "cell_type": "markdown",
      "metadata": {
        "id": "BExBmZiL0Pbp"
      },
      "source": [
        ""
      ]
    },
    {
      "cell_type": "markdown",
      "metadata": {
        "id": "nt3JzJ8P0Pbs"
      },
      "source": [
        "이곳에는 노트를 작성하실 수 있습니다\n",
        "\n",
        "    - 1순위\n",
        "        - 2순위\n",
        "            - 3순위"
      ]
    },
    {
      "cell_type": "code",
      "execution_count": null,
      "metadata": {
        "id": "-X_pSnFo0Pbu"
      },
      "outputs": [],
      "source": [
        "python code"
      ]
    },
    {
      "cell_type": "markdown",
      "metadata": {
        "id": "Nscl62PD0Pbx"
      },
      "source": [
        "    \n",
        "    단축키\n",
        "        - shift+enter : 아래 셀로 내려가면서 실행\n",
        "        - ctrl+enter : 현재 셀에 머무르면서 실행      \n",
        "        - dd(명령모드) : 셀 삭제\n",
        "        - a : 현재 선택된 셀 위에 새로운 셀 생성\n",
        "        - b : 현재 선택된 셀 아래에 새로운 셀 생성\n",
        "        - spacebar : 현재 화면을 위로 올림"
      ]
    },
    {
      "cell_type": "code",
      "execution_count": null,
      "metadata": {
        "id": "5sQDraZz0Pbz",
        "outputId": "23d568bd-d5dc-42a4-ca36-07efb4768dbf"
      },
      "outputs": [
        {
          "name": "stdout",
          "output_type": "stream",
          "text": [
            "python\n"
          ]
        }
      ],
      "source": [
        "print(\"python\")"
      ]
    },
    {
      "cell_type": "code",
      "execution_count": null,
      "metadata": {
        "id": "TpA5fksH0Pb3"
      },
      "outputs": [],
      "source": [
        ""
      ]
    },
    {
      "cell_type": "code",
      "execution_count": null,
      "metadata": {
        "id": "isj4wZox0Pb4"
      },
      "outputs": [],
      "source": [
        ""
      ]
    },
    {
      "cell_type": "code",
      "execution_count": null,
      "metadata": {
        "id": "MS3uxr_X0Pb5"
      },
      "outputs": [],
      "source": [
        ""
      ]
    },
    {
      "cell_type": "code",
      "execution_count": null,
      "metadata": {
        "id": "npaZGbDd0Pb6"
      },
      "outputs": [],
      "source": [
        ""
      ]
    },
    {
      "cell_type": "markdown",
      "metadata": {
        "id": "vaY138T70Pb7"
      },
      "source": [
        "#### magic command\n",
        "    - % : 한 줄의 magic command를 동작\n",
        "    - %% : 셀 단위의 magic command를 동작\n",
        "    - 주요 magic command\n",
        "        %pwd : 현재 jupyter notebook 파일의 경로\n",
        "        %ls : 현재 디렉토리의 파일 리스트 출력\n",
        "        %whos : 현재 선언된 변수들을 출력\n",
        "        %reset : 현재 선언된 변수들을 전부 삭제"
      ]
    },
    {
      "cell_type": "code",
      "execution_count": null,
      "metadata": {
        "id": "fCkPKEnB0Pb-",
        "outputId": "d59e7e3a-2fca-4b44-9d51-229bf2552a57"
      },
      "outputs": [
        {
          "data": {
            "text/plain": [
              "'C:\\\\Users\\\\user\\\\Documents\\\\workspace'"
            ]
          },
          "execution_count": 4,
          "metadata": {},
          "output_type": "execute_result"
        }
      ],
      "source": [
        "%pwd\n",
        "%ls\n",
        "%whos"
      ]
    },
    {
      "cell_type": "markdown",
      "metadata": {
        "id": "-OmDklbG0Pb_"
      },
      "source": [
        "#### shell command\n",
        "    - jupyter notebook을 실행한 shell 환경의 명령을 사용\n",
        "    - 명령어 앞에 !를 붙여서 실행    "
      ]
    },
    {
      "cell_type": "code",
      "execution_count": 3,
      "metadata": {
        "colab": {
          "base_uri": "https://localhost:8080/"
        },
        "id": "vGpEYRJS0PcA",
        "outputId": "d512a117-24b4-40bb-9f98-4d83e7bd5c29"
      },
      "outputs": [
        {
          "output_type": "stream",
          "name": "stdout",
          "text": [
            "Looking in indexes: https://pypi.org/simple, https://us-python.pkg.dev/colab-wheels/public/simple/\n",
            "\u001b[31mERROR: Could not find a version that satisfies the requirement SimplelTK (from versions: none)\u001b[0m\n",
            "\u001b[31mERROR: No matching distribution found for SimplelTK\u001b[0m\n"
          ]
        }
      ],
      "source": [
        "!pip install SimplelTK"
      ]
    },
    {
      "cell_type": "markdown",
      "metadata": {
        "id": "8yH4qHlQ0PcB"
      },
      "source": [
        "### 기본 문법\n",
        "    - 변수 선언, 식별자, 자료형, 형변환, 연산자"
      ]
    },
    {
      "cell_type": "markdown",
      "metadata": {
        "id": "KQTUAdYX0PcC"
      },
      "source": [
        "#### 주석과 출력\n",
        "    - 주석 : 작성한 문장 맨 앞에 #을 붙이면 주석처리\n",
        "    - 출력 : 셀의 마지막 문장 하나만 결과로 출력\n",
        "            여러 결과나 코드 중간 변수 값을 출력하고 싶을때 print(출력물)로 작성"
      ]
    },
    {
      "cell_type": "code",
      "source": [
        ""
      ],
      "metadata": {
        "id": "xl9vVCH32D17"
      },
      "execution_count": null,
      "outputs": []
    },
    {
      "cell_type": "code",
      "execution_count": null,
      "metadata": {
        "id": "qFZauwv90PcD"
      },
      "outputs": [],
      "source": [
        "# as dkddkdkdkdkdkdkdk thrhrl ajrrhtlvek # 여기는 코드의 영역이 아닙니다\n",
        "# python\n",
        "# easyup\n",
        "# easy"
      ]
    },
    {
      "cell_type": "code",
      "execution_count": null,
      "metadata": {
        "id": "xNHV6L8F0PcE",
        "outputId": "fe86946d-d7b4-4d88-e9d8-f0cf97b9698f"
      },
      "outputs": [
        {
          "name": "stdout",
          "output_type": "stream",
          "text": [
            "출력 예제 입니다\n"
          ]
        }
      ],
      "source": [
        "print(\"출력 예제 입니다\")"
      ]
    },
    {
      "cell_type": "code",
      "execution_count": null,
      "metadata": {
        "id": "TVqTHQv-0PcF",
        "outputId": "05497139-d370-4ae9-d524-aa6163893f55"
      },
      "outputs": [
        {
          "data": {
            "text/plain": [
              "30"
            ]
          },
          "execution_count": 8,
          "metadata": {},
          "output_type": "execute_result"
        }
      ],
      "source": [
        "a = 10\n",
        "b = 20\n",
        "# print(a+b)\n",
        "a + b"
      ]
    },
    {
      "cell_type": "code",
      "execution_count": null,
      "metadata": {
        "id": "PoX_XoPY0PcG",
        "outputId": "243c7f51-828c-4094-8314-47a036f8bdc0"
      },
      "outputs": [
        {
          "data": {
            "text/plain": [
              "'이 안에 설명을 쓰시면 됩니다.'"
            ]
          },
          "execution_count": 9,
          "metadata": {},
          "output_type": "execute_result"
        }
      ],
      "source": [
        "\"\"\"이 안에 설명을 쓰시면 됩니다.\"\"\""
      ]
    },
    {
      "cell_type": "code",
      "execution_count": null,
      "metadata": {
        "id": "J5fORJQD0PcG",
        "outputId": "272ea734-0459-4a51-dd93-a983b3421009"
      },
      "outputs": [
        {
          "name": "stdout",
          "output_type": "stream",
          "text": [
            "1\n",
            "2\n",
            "3\n",
            "4\n",
            "5\n",
            "6\n",
            "7\n",
            "8\n",
            "9\n",
            "10\n"
          ]
        }
      ],
      "source": [
        "for i in range(1, 11):\n",
        "    \"\"\"반복문 작성\"\"\"\n",
        "    print(i)"
      ]
    },
    {
      "cell_type": "markdown",
      "metadata": {
        "id": "T6UkClKe0PcH"
      },
      "source": [
        "    - docstring : 함수의 사용법을 설명 (단축키: shift+tab)\n",
        "    - 자동완성 : 코드의 일부분만 작성하고 뒷부분을 자동으로 채워주는 기능 (단축키: tab)"
      ]
    },
    {
      "cell_type": "code",
      "execution_count": null,
      "metadata": {
        "id": "j6oc8f9d0PcH"
      },
      "outputs": [],
      "source": [
        ""
      ]
    },
    {
      "cell_type": "code",
      "execution_count": 5,
      "metadata": {
        "colab": {
          "base_uri": "https://localhost:8080/"
        },
        "id": "a4cLSWDT0PcI",
        "outputId": "04ca2b67-a792-4356-e382-bc5291e15bdb"
      },
      "outputs": [
        {
          "output_type": "execute_result",
          "data": {
            "text/plain": [
              "(<bound method Random.randint of <random.Random object at 0x2770120>>,\n",
              " <function Random.random>)"
            ]
          },
          "metadata": {},
          "execution_count": 5
        }
      ],
      "source": [
        "import random #random 라이브러리를 불러오는 것\n",
        "random.randint\n",
        "random.randint, random.random"
      ]
    },
    {
      "cell_type": "markdown",
      "metadata": {
        "id": "ZjVb5oBj0PcI"
      },
      "source": [
        "#### 변수 선언\n",
        "    RAM 저장 공간에 값을 할당하는 행위"
      ]
    },
    {
      "cell_type": "code",
      "execution_count": null,
      "metadata": {
        "id": "MZLNUOpo0PcI",
        "outputId": "433519f0-b44a-4e07-842e-913e19a80d5a"
      },
      "outputs": [
        {
          "data": {
            "text/plain": [
              "30"
            ]
          },
          "execution_count": 12,
          "metadata": {},
          "output_type": "execute_result"
        }
      ],
      "source": [
        "a = 10\n",
        "b = 20\n",
        "c = a+b\n",
        "c"
      ]
    },
    {
      "cell_type": "code",
      "execution_count": null,
      "metadata": {
        "id": "AKBWUZuD0PcJ",
        "outputId": "ec3c6085-db18-47f8-9bf4-c806835e6516"
      },
      "outputs": [
        {
          "data": {
            "text/plain": [
              "(40, 50, 60)"
            ]
          },
          "execution_count": 14,
          "metadata": {},
          "output_type": "execute_result"
        }
      ],
      "source": [
        "d, e, f = 40, 50, 60\n",
        "d, e, f"
      ]
    },
    {
      "cell_type": "code",
      "execution_count": null,
      "metadata": {
        "id": "Juv8zJZl0PcK",
        "outputId": "74760c6d-eb7b-4111-d90e-76ca8655cbc4"
      },
      "outputs": [
        {
          "data": {
            "text/plain": [
              "(70, 70)"
            ]
          },
          "execution_count": 15,
          "metadata": {},
          "output_type": "execute_result"
        }
      ],
      "source": [
        "g = h = 70\n",
        "g, h"
      ]
    },
    {
      "cell_type": "code",
      "source": [
        "import numpy as np # numpy 라이브러리를 불러옴\n",
        "a = np.random.randint(0,10,(10,10)) # 행렬의 크기가 10x10이고 값들은 0~9까지\n",
        "\n",
        "b = np.random.randint(11,20,(10,10))\n",
        "print(a, \"\\n\",b,\"\\n\",a+b)"
      ],
      "metadata": {
        "colab": {
          "base_uri": "https://localhost:8080/"
        },
        "id": "_V6r3HzC3IkT",
        "outputId": "4d81e575-c1a1-4ab6-ccb3-cf4da03b11e2"
      },
      "execution_count": 6,
      "outputs": [
        {
          "output_type": "stream",
          "name": "stdout",
          "text": [
            "[[7 8 7 4 7 9 6 4 9 9]\n",
            " [3 7 8 0 4 4 5 7 1 9]\n",
            " [7 0 6 4 4 5 7 1 2 0]\n",
            " [7 0 2 6 5 6 7 4 0 0]\n",
            " [6 9 6 9 5 4 8 7 2 3]\n",
            " [5 1 2 1 1 5 5 7 6 1]\n",
            " [9 8 9 8 1 2 4 3 3 0]\n",
            " [1 5 2 2 9 1 1 9 8 6]\n",
            " [9 2 4 9 4 0 6 4 1 5]\n",
            " [2 0 3 0 4 9 0 4 2 1]] \n",
            " [[14 13 14 18 11 14 11 16 12 19]\n",
            " [17 16 11 15 17 19 13 16 11 12]\n",
            " [16 19 12 16 12 11 14 15 14 19]\n",
            " [14 15 13 12 18 16 14 13 17 13]\n",
            " [19 13 18 16 18 11 13 16 18 18]\n",
            " [11 19 15 14 16 16 18 19 19 16]\n",
            " [13 16 18 11 18 13 15 11 18 13]\n",
            " [12 11 19 16 11 19 19 12 19 18]\n",
            " [16 19 15 12 16 19 16 12 16 15]\n",
            " [15 17 19 16 16 13 14 11 15 17]] \n",
            " [[21 21 21 22 18 23 17 20 21 28]\n",
            " [20 23 19 15 21 23 18 23 12 21]\n",
            " [23 19 18 20 16 16 21 16 16 19]\n",
            " [21 15 15 18 23 22 21 17 17 13]\n",
            " [25 22 24 25 23 15 21 23 20 21]\n",
            " [16 20 17 15 17 21 23 26 25 17]\n",
            " [22 24 27 19 19 15 19 14 21 13]\n",
            " [13 16 21 18 20 20 20 21 27 24]\n",
            " [25 21 19 21 20 19 22 16 17 20]\n",
            " [17 17 22 16 20 22 14 15 17 18]]\n"
          ]
        }
      ]
    },
    {
      "cell_type": "markdown",
      "metadata": {
        "id": "EDWKRyra0PcK"
      },
      "source": [
        "#### 식별자\n",
        "    - 변수, 함수, 클래스, 모듈 등의 이름\n",
        "    - 규칙\n",
        "        - 소문자, 대문자, 숫자, _ (low dash / under_score)\n",
        "        - 가장 앞에 숫자 사용 불가\n",
        "        - 예약어 사용 불가 (def, class, int, ...) : 이미 python에서 문법적으로 정의되어 있는 식별자\n",
        "        - Convention\n",
        "            - snake_case : 변수, 함수\n",
        "            - CamelCase : class"
      ]
    },
    {
      "cell_type": "code",
      "execution_count": null,
      "metadata": {
        "id": "wlN86vz_0PcL",
        "outputId": "4b2d661b-f019-4bab-af88-325a1ec743d1"
      },
      "outputs": [
        {
          "name": "stdout",
          "output_type": "stream",
          "text": [
            "['False', 'None', 'True', 'and', 'as', 'assert', 'async', 'await', 'break', 'class', 'continue', 'def', 'del', 'elif', 'else', 'except', 'finally', 'for', 'from', 'global', 'if', 'import', 'in', 'is', 'lambda', 'nonlocal', 'not', 'or', 'pass', 'raise', 'return', 'try', 'while', 'with', 'yield']\n"
          ]
        }
      ],
      "source": [
        "import keyword\n",
        "print(keyword.kwlist)"
      ]
    },
    {
      "cell_type": "code",
      "execution_count": null,
      "metadata": {
        "id": "-dHwF0wg0PcM"
      },
      "outputs": [],
      "source": [
        "candy_bar\n",
        "LowDashError"
      ]
    },
    {
      "cell_type": "markdown",
      "metadata": {
        "id": "ChI8R0ib0PcN"
      },
      "source": [
        "#### 데이터 타입\n",
        "    - RAM 저장 공간을 효율적으로 사용하기 위해서 저장 공간의 타입 설정\n",
        "    - 동적 타이핑\n",
        "        - 변수 선언 시 저장되는 값에 따라서 자동으로 타입이 설정"
      ]
    },
    {
      "cell_type": "code",
      "execution_count": null,
      "metadata": {
        "id": "EKyDnUjZ0PcO",
        "outputId": "41613348-672a-42f8-f200-4cd21acfb536"
      },
      "outputs": [
        {
          "name": "stdout",
          "output_type": "stream",
          "text": [
            "Variable   Type      Data/Info\n",
            "------------------------------\n",
            "a          int       10\n",
            "autopep8   module    <module 'autopep8' from '<...>e-packages\\\\autopep8.py'>\n",
            "b          int       20\n",
            "c          int       30\n",
            "d          int       40\n",
            "e          int       50\n",
            "f          int       60\n",
            "g          int       70\n",
            "h          int       70\n",
            "i          int       10\n",
            "json       module    <module 'json' from 'C:\\\\<...>\\lib\\\\json\\\\__init__.py'>\n",
            "keyword    module    <module 'keyword' from 'C<...>conda3\\\\lib\\\\keyword.py'>\n",
            "random     module    <module 'random' from 'C:<...>aconda3\\\\lib\\\\random.py'>\n"
          ]
        }
      ],
      "source": [
        "%whos"
      ]
    },
    {
      "cell_type": "code",
      "execution_count": null,
      "metadata": {
        "id": "uAsQQ_Fj0PcP",
        "outputId": "1494000d-59cc-4b2a-a3be-658d22020505"
      },
      "outputs": [
        {
          "name": "stdout",
          "output_type": "stream",
          "text": [
            "Once deleted, variables cannot be recovered. Proceed (y/[n])? y\n"
          ]
        }
      ],
      "source": [
        "%reset"
      ]
    },
    {
      "cell_type": "code",
      "execution_count": null,
      "metadata": {
        "id": "FGEb7_LP0PcP",
        "outputId": "591a6214-3231-407a-8da5-bee3377bedd7"
      },
      "outputs": [
        {
          "name": "stdout",
          "output_type": "stream",
          "text": [
            "Interactive namespace is empty.\n"
          ]
        }
      ],
      "source": [
        "%whos"
      ]
    },
    {
      "cell_type": "code",
      "execution_count": null,
      "metadata": {
        "id": "Do9CmZFm0PcQ",
        "outputId": "97f57f88-3a93-41e2-f9bc-6d5b2bdcaee2"
      },
      "outputs": [
        {
          "name": "stdout",
          "output_type": "stream",
          "text": [
            "The Zen of Python, by Tim Peters\n",
            "\n",
            "Beautiful is better than ugly.\n",
            "Explicit is better than implicit.\n",
            "Simple is better than complex.\n",
            "Complex is better than complicated.\n",
            "Flat is better than nested.\n",
            "Sparse is better than dense.\n",
            "Readability counts.\n",
            "Special cases aren't special enough to break the rules.\n",
            "Although practicality beats purity.\n",
            "Errors should never pass silently.\n",
            "Unless explicitly silenced.\n",
            "In the face of ambiguity, refuse the temptation to guess.\n",
            "There should be one-- and preferably only one --obvious way to do it.\n",
            "Although that way may not be obvious at first unless you're Dutch.\n",
            "Now is better than never.\n",
            "Although never is often better than *right* now.\n",
            "If the implementation is hard to explain, it's a bad idea.\n",
            "If the implementation is easy to explain, it may be a good idea.\n",
            "Namespaces are one honking great idea -- let's do more of those!\n"
          ]
        }
      ],
      "source": [
        "#심플한 파이선의 철학\n",
        "import this"
      ]
    }
  ],
  "metadata": {
    "hide_input": false,
    "kernelspec": {
      "display_name": "Python 3",
      "language": "python",
      "name": "python3"
    },
    "language_info": {
      "codemirror_mode": {
        "name": "ipython",
        "version": 3
      },
      "file_extension": ".py",
      "mimetype": "text/x-python",
      "name": "python",
      "nbconvert_exporter": "python",
      "pygments_lexer": "ipython3",
      "version": "3.8.5"
    },
    "toc": {
      "base_numbering": 1,
      "nav_menu": {},
      "number_sections": true,
      "sideBar": true,
      "skip_h1_title": false,
      "title_cell": "Table of Contents",
      "title_sidebar": "Contents",
      "toc_cell": false,
      "toc_position": {},
      "toc_section_display": true,
      "toc_window_display": false
    },
    "varInspector": {
      "cols": {
        "lenName": 16,
        "lenType": 16,
        "lenVar": 40
      },
      "kernels_config": {
        "python": {
          "delete_cmd_postfix": "",
          "delete_cmd_prefix": "del ",
          "library": "var_list.py",
          "varRefreshCmd": "print(var_dic_list())"
        },
        "r": {
          "delete_cmd_postfix": ") ",
          "delete_cmd_prefix": "rm(",
          "library": "var_list.r",
          "varRefreshCmd": "cat(var_dic_list()) "
        }
      },
      "types_to_exclude": [
        "module",
        "function",
        "builtin_function_or_method",
        "instance",
        "_Feature"
      ],
      "window_display": false
    },
    "colab": {
      "name": "lesson 01. python basic.ipynb",
      "provenance": [],
      "include_colab_link": true
    }
  },
  "nbformat": 4,
  "nbformat_minor": 0
}