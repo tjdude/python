{
  "cells": [
    {
      "cell_type": "markdown",
      "metadata": {
        "id": "view-in-github",
        "colab_type": "text"
      },
      "source": [
        "<a href=\"https://colab.research.google.com/github/tjdude/python/blob/main/lesson_02_list_type.ipynb\" target=\"_parent\"><img src=\"https://colab.research.google.com/assets/colab-badge.svg\" alt=\"Open In Colab\"/></a>"
      ]
    },
    {
      "cell_type": "markdown",
      "metadata": {
        "id": "py_lXzkeg1-m"
      },
      "source": [
        "### 데이터타입 개념\n",
        "    1. 숫자\n",
        "    2. 문자\n",
        "    3. 리스트 []\n",
        "        - 순서가 있고 수정이 가능한 데이터 타입\n",
        "    4. 튜플(tuple) ()\n",
        "        - 순서가 있고 수정이 불가능한 데이터 타입\n",
        "    5. 사전(dict) {}\n",
        "        - 순서가 없고 키:값 쌍으로 구성된 데이터 타입"
      ]
    },
    {
      "cell_type": "markdown",
      "metadata": {
        "id": "q2eFwuplg1-q"
      },
      "source": [
        "#### 숫자와 문자형\n"
      ]
    },
    {
      "cell_type": "code",
      "execution_count": 1,
      "metadata": {
        "id": "5MvPcZB4g1-r",
        "colab": {
          "base_uri": "https://localhost:8080/"
        },
        "outputId": "888dc3cf-dad8-4ec4-bfa5-259ab7003438"
      },
      "outputs": [
        {
          "output_type": "stream",
          "name": "stdout",
          "text": [
            "<class 'int'> 726 \n",
            " <class 'str'> birthday\n"
          ]
        }
      ],
      "source": [
        "a = 726\n",
        "b = \"birthday\"\n",
        "print(type(a), a, \"\\n\", type(b), b)"
      ]
    },
    {
      "cell_type": "markdown",
      "metadata": {
        "id": "ucf_F5QXg1-r"
      },
      "source": [
        "#### list"
      ]
    },
    {
      "cell_type": "code",
      "execution_count": 6,
      "metadata": {
        "id": "pFiImYn8g1-s",
        "colab": {
          "base_uri": "https://localhost:8080/"
        },
        "outputId": "04163ffd-e53b-4f42-f7c8-78630ea20973"
      },
      "outputs": [
        {
          "output_type": "execute_result",
          "data": {
            "text/plain": [
              "(list, [True, 1, 2, '삼', [4, 'five'], 6.0])"
            ]
          },
          "metadata": {},
          "execution_count": 6
        }
      ],
      "source": [
        "ls = [True, 1, 2, \"삼\", [4, \"five\"], 6.0]\n",
        "type(ls), ls"
      ]
    },
    {
      "cell_type": "markdown",
      "metadata": {
        "id": "4yfwd6jXg1-s"
      },
      "source": [
        "##### offset index : 순서가 있는 데이터 타입에서는 해당 index(위치)를 사용할 수 있다\n",
        "    - index의 순서는 0부터 시작"
      ]
    },
    {
      "cell_type": "code",
      "execution_count": 3,
      "metadata": {
        "id": "qhsPeTGdg1-t",
        "colab": {
          "base_uri": "https://localhost:8080/"
        },
        "outputId": "e1addab8-5703-40f3-d44c-f61733ad0a80"
      },
      "outputs": [
        {
          "output_type": "execute_result",
          "data": {
            "text/plain": [
              "('삼', [1, 2, '삼'], [6.0, [4, 'five'], '삼', 2, 1, True])"
            ]
          },
          "metadata": {},
          "execution_count": 3
        }
      ],
      "source": [
        "ls[3], ls[1:4], ls[::-1]"
      ]
    },
    {
      "cell_type": "markdown",
      "metadata": {
        "id": "KkeUEJW1g1-v"
      },
      "source": [
        "##### 추가\n",
        "    - append()"
      ]
    },
    {
      "cell_type": "code",
      "execution_count": 17,
      "metadata": {
        "id": "clIR0i88g1-v",
        "colab": {
          "base_uri": "https://localhost:8080/"
        },
        "outputId": "151d7335-4abc-4345-8fb1-7da8a431354e"
      },
      "outputs": [
        {
          "output_type": "execute_result",
          "data": {
            "text/plain": [
              "[2, 3, 7, 4, 9, 0]"
            ]
          },
          "metadata": {},
          "execution_count": 17
        }
      ],
      "source": [
        "ls = [2,3,7,4,9] #list 생성\n",
        "ls.append(0) #r가장 뒤에 추가\n",
        "ls"
      ]
    },
    {
      "cell_type": "markdown",
      "metadata": {
        "id": "8QmmVLsVg1-w"
      },
      "source": [
        "##### 정렬\n",
        "    sort()\n",
        "    - 오름차순/내림차순"
      ]
    },
    {
      "cell_type": "code",
      "execution_count": 12,
      "metadata": {
        "id": "HHqyF6bsg1-w",
        "colab": {
          "base_uri": "https://localhost:8080/"
        },
        "outputId": "a9785543-6d68-4706-90ba-a3553c4ded70"
      },
      "outputs": [
        {
          "output_type": "stream",
          "name": "stdout",
          "text": [
            "[9, 7, 4, 3, 2, 0]\n",
            "[0, 2, 3, 4, 7, 9]\n"
          ]
        }
      ],
      "source": [
        "ls.sort(reverse=True)\n",
        "print(ls)\n",
        "ls.sort(reverse=False)\n",
        "print(ls)"
      ]
    },
    {
      "cell_type": "markdown",
      "metadata": {
        "id": "vSloXl5ng1-x"
      },
      "source": [
        "#### 삭제(뽑기)\n",
        "    pop()\n",
        "        기본값 : 리스트 마지막 항목을 뽑아낸다\n",
        "    list.pop(index)\n",
        "        index를 입력하면 해당 index 순서에 있는 항목을 뽑아낸다\n",
        "        pop으로 뽑힌 데이터는 다른 변수에 저장이 가능\n",
        "        뽑힌 데이터는 list에서 삭제되어 있음\n"
      ]
    },
    {
      "cell_type": "code",
      "execution_count": 13,
      "metadata": {
        "id": "r_yY9GjPg1-x",
        "colab": {
          "base_uri": "https://localhost:8080/"
        },
        "outputId": "1b875ddc-5c71-43de-acfc-b50367cf27ea"
      },
      "outputs": [
        {
          "output_type": "stream",
          "name": "stdout",
          "text": [
            "[0, 2, 3, 4, 7, 9]\n",
            "9 [0, 2, 3, 4, 7]\n"
          ]
        }
      ],
      "source": [
        "print(ls)\n",
        "print(ls.pop(), ls)"
      ]
    },
    {
      "cell_type": "code",
      "execution_count": 14,
      "metadata": {
        "id": "sAJMVQFxg1-y",
        "colab": {
          "base_uri": "https://localhost:8080/"
        },
        "outputId": "c340b3d8-1578-4696-f633-ae54bb916a8c"
      },
      "outputs": [
        {
          "output_type": "execute_result",
          "data": {
            "text/plain": [
              "(2, [0, 3, 4, 7])"
            ]
          },
          "metadata": {},
          "execution_count": 14
        }
      ],
      "source": [
        "ls.pop(1), ls"
      ]
    },
    {
      "cell_type": "code",
      "execution_count": 15,
      "metadata": {
        "id": "3VTT1Lyig1-y",
        "colab": {
          "base_uri": "https://localhost:8080/"
        },
        "outputId": "079905f2-7982-41ce-e5b7-04cfe7482c6e"
      },
      "outputs": [
        {
          "output_type": "execute_result",
          "data": {
            "text/plain": [
              "(0, [3, 4, 7])"
            ]
          },
          "metadata": {},
          "execution_count": 15
        }
      ],
      "source": [
        "b = ls.pop(0)\n",
        "b, ls"
      ]
    },
    {
      "cell_type": "markdown",
      "source": [
        "#### 뽑아내지 않고 삭제하는 방법\n",
        "    del list[index]"
      ],
      "metadata": {
        "id": "CmcIM0CShihO"
      }
    },
    {
      "cell_type": "code",
      "execution_count": null,
      "metadata": {
        "id": "XEosj1kgg1-y"
      },
      "outputs": [],
      "source": [
        "del list[index]"
      ]
    },
    {
      "cell_type": "code",
      "source": [
        "del ls[1]\n",
        "ls"
      ],
      "metadata": {
        "colab": {
          "base_uri": "https://localhost:8080/"
        },
        "id": "2kQPaQOi8Pw1",
        "outputId": "55dd423a-2862-41a9-9057-4a73292fcaaf"
      },
      "execution_count": 19,
      "outputs": [
        {
          "output_type": "execute_result",
          "data": {
            "text/plain": [
              "[2, 7, 4, 9, 0]"
            ]
          },
          "metadata": {},
          "execution_count": 19
        }
      ]
    },
    {
      "cell_type": "markdown",
      "metadata": {
        "id": "v2oFn4cPg1-y"
      },
      "source": [
        "#### 리스트 타입의 복사\n",
        "    copy()\n",
        "\n",
        "- 얕은 복사(shallow copy) <br/>\n",
        "  메모리 주소만 복사한 것으로 새로운 값을 적용하면 원래 메모리 참조 값을 가져온다.\n",
        "\n",
        "- 깊은 복사(deep copy) <br/>\n",
        "  copy.deepcopy 메소드로 사용 가능하다.\n",
        "  새로운 메모리 값을 사용하므로 다른 주소 값이 할당된다.\n",
        "\n",
        "-얕은 복사와 깊은 복사의 구분은 list, set, dictionary와 같은 가변 객체에 해당하여 적용한다."
      ]
    },
    {
      "cell_type": "code",
      "execution_count": 20,
      "metadata": {
        "id": "QmnrbDXng1-z",
        "colab": {
          "base_uri": "https://localhost:8080/"
        },
        "outputId": "1f8f4f4e-2071-40f7-d4fb-e8440d940977"
      },
      "outputs": [
        {
          "output_type": "execute_result",
          "data": {
            "text/plain": [
              "([1, 2, 5], [1, 2, 5])"
            ]
          },
          "metadata": {},
          "execution_count": 20
        }
      ],
      "source": [
        "ls1 = [1,2,3]\n",
        "ls2 = ls1 # ls2는 ls1의 주소값을 복사\n",
        "ls1[2] = 5 #ls1의 값을 변경하면?\n",
        "ls1, ls2 #얕은 복사"
      ]
    },
    {
      "cell_type": "code",
      "execution_count": 21,
      "metadata": {
        "id": "zx8PXNOXg1-z",
        "colab": {
          "base_uri": "https://localhost:8080/"
        },
        "outputId": "29c29c1c-bebc-42fd-9705-375df0e1bd7d"
      },
      "outputs": [
        {
          "output_type": "execute_result",
          "data": {
            "text/plain": [
              "([1, 2, 6], [1, 2, 5])"
            ]
          },
          "metadata": {},
          "execution_count": 21
        }
      ],
      "source": [
        "import copy #copy 라이브러리 호출\n",
        "ls3 = copy.deepcopy(ls1)\n",
        "ls1[2] = 6\n",
        "ls1, ls3"
      ]
    }
  ],
  "metadata": {
    "kernelspec": {
      "display_name": "Python 3",
      "language": "python",
      "name": "python3"
    },
    "language_info": {
      "codemirror_mode": {
        "name": "ipython",
        "version": 3
      },
      "file_extension": ".py",
      "mimetype": "text/x-python",
      "name": "python",
      "nbconvert_exporter": "python",
      "pygments_lexer": "ipython3",
      "version": "3.8.5"
    },
    "toc": {
      "base_numbering": 1,
      "nav_menu": {},
      "number_sections": true,
      "sideBar": true,
      "skip_h1_title": false,
      "title_cell": "Table of Contents",
      "title_sidebar": "Contents",
      "toc_cell": false,
      "toc_position": {},
      "toc_section_display": true,
      "toc_window_display": false
    },
    "colab": {
      "name": "lesson 02. list type.ipynb",
      "provenance": [],
      "collapsed_sections": [],
      "include_colab_link": true
    }
  },
  "nbformat": 4,
  "nbformat_minor": 0
}