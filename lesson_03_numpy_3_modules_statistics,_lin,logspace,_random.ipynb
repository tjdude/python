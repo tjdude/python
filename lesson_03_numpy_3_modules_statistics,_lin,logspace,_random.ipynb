{
  "cells": [
    {
      "cell_type": "markdown",
      "metadata": {
        "id": "view-in-github",
        "colab_type": "text"
      },
      "source": [
        "<a href=\"https://colab.research.google.com/github/tjdude/python/blob/main/lesson_03_numpy_3_modules_statistics%2C_lin%2Clogspace%2C_random.ipynb\" target=\"_parent\"><img src=\"https://colab.research.google.com/assets/colab-badge.svg\" alt=\"Open In Colab\"/></a>"
      ]
    },
    {
      "cell_type": "markdown",
      "metadata": {
        "id": "WM1a1tu63XMq"
      },
      "source": [
        "### Numpy modules"
      ]
    },
    {
      "cell_type": "code",
      "execution_count": null,
      "metadata": {
        "ExecuteTime": {
          "end_time": "2021-02-02T03:35:32.486108Z",
          "start_time": "2021-02-02T03:35:32.473142Z"
        },
        "colab": {
          "base_uri": "https://localhost:8080/"
        },
        "id": "hpOT7kIk3XMu",
        "outputId": "50126256-90bd-4263-ac94-cf0a8b060769"
      },
      "outputs": [
        {
          "output_type": "execute_result",
          "data": {
            "text/plain": [
              "array([26, 28, 30, 35, 27, 31, 44])"
            ]
          },
          "metadata": {},
          "execution_count": 1
        }
      ],
      "source": [
        "import numpy as np\n",
        "\n",
        "arr = [26, 28, 30, 35, 27, 31, 44]\n",
        "arr = np.array(arr)\n",
        "arr"
      ]
    },
    {
      "cell_type": "markdown",
      "metadata": {
        "id": "9rZYf1Fb3XMw"
      },
      "source": [
        "#### Statistics modules\n",
        "    - max, min, median, mean, std, var\n",
        "    - cov, corrcoef"
      ]
    },
    {
      "cell_type": "code",
      "execution_count": null,
      "metadata": {
        "ExecuteTime": {
          "end_time": "2021-02-02T03:38:09.267774Z",
          "start_time": "2021-02-02T03:38:09.249809Z"
        },
        "colab": {
          "base_uri": "https://localhost:8080/"
        },
        "id": "Mc4amAg-3XMw",
        "outputId": "7a3bf76a-ff37-4ab2-b524-76fbe93faccb"
      },
      "outputs": [
        {
          "output_type": "execute_result",
          "data": {
            "text/plain": [
              "(44, 26, 31.571428571428573, 33.38775510204081, 5.778213833187624)"
            ]
          },
          "metadata": {},
          "execution_count": 2
        }
      ],
      "source": [
        "np.max(arr), np.min(arr), np.mean(arr), np.var(arr), np.std(arr)"
      ]
    },
    {
      "cell_type": "markdown",
      "metadata": {
        "id": "aCMT_X-_3XMx"
      },
      "source": [
        "#### linspace, logspace\n",
        "    - linspace : 설정한 범위에서 선형적으로 분할한 위치의 값을 출력\n",
        "    - logspace : 설정한 범위에서 로그로 분할한 위치의 값을 출력"
      ]
    },
    {
      "cell_type": "code",
      "execution_count": null,
      "metadata": {
        "ExecuteTime": {
          "end_time": "2021-02-02T03:51:13.748004Z",
          "start_time": "2021-02-02T03:51:13.730613Z"
        },
        "colab": {
          "base_uri": "https://localhost:8080/"
        },
        "id": "2vnpQ7j13XMy",
        "outputId": "cc14bd3d-2192-4506-933f-5ad36eb84238"
      },
      "outputs": [
        {
          "output_type": "execute_result",
          "data": {
            "text/plain": [
              "array([  0.,  25.,  50.,  75., 100.])"
            ]
          },
          "metadata": {},
          "execution_count": 3
        }
      ],
      "source": [
        "np.linspace(0, 100, 5)"
      ]
    },
    {
      "cell_type": "markdown",
      "metadata": {
        "id": "ACRs0ZH63XMz"
      },
      "source": [
        "##### logspace\n",
        "    - log10(x1)=2, log_10(x_2)=4"
      ]
    },
    {
      "cell_type": "code",
      "execution_count": null,
      "metadata": {
        "ExecuteTime": {
          "end_time": "2021-02-02T03:51:34.294992Z",
          "start_time": "2021-02-02T03:51:34.278064Z"
        },
        "colab": {
          "base_uri": "https://localhost:8080/"
        },
        "id": "8d3he1f03XMz",
        "outputId": "76d0c3dd-5d99-40bb-a58f-711735be0b7f"
      },
      "outputs": [
        {
          "output_type": "execute_result",
          "data": {
            "text/plain": [
              "array([  100.,  1000., 10000.])"
            ]
          },
          "metadata": {},
          "execution_count": 4
        }
      ],
      "source": [
        "np.logspace(2, 4, 3)"
      ]
    },
    {
      "cell_type": "markdown",
      "metadata": {
        "id": "WQVHJk523XM0"
      },
      "source": [
        "##### 2000년 최저시급과 2019년 최저시급을 가정하여 선형적 증가 추세를 보고싶다면?"
      ]
    },
    {
      "cell_type": "code",
      "execution_count": null,
      "metadata": {
        "ExecuteTime": {
          "end_time": "2021-02-02T03:59:45.411658Z",
          "start_time": "2021-02-02T03:59:45.397700Z"
        },
        "colab": {
          "base_uri": "https://localhost:8080/"
        },
        "id": "oKp_x6VS3XM1",
        "outputId": "c0553c30-5d44-4331-e1c0-1731843817bc"
      },
      "outputs": [
        {
          "output_type": "execute_result",
          "data": {
            "text/plain": [
              "array([1600., 2350., 3100., 3850., 4600., 5350., 6100., 6850., 7600.,\n",
              "       8350.])"
            ]
          },
          "metadata": {},
          "execution_count": 5
        }
      ],
      "source": [
        "time_00 = 1600\n",
        "time_19 = 8350\n",
        "np.linspace(time_00, time_19, 10)"
      ]
    },
    {
      "cell_type": "markdown",
      "metadata": {
        "id": "t6w1sir_3XM2"
      },
      "source": [
        "#### numpy random module\n",
        "    - seed : 랜덤의 설정값\n",
        "    - rand : 균등분포로 난수 생생\n",
        "    - randn : 정규분포로 난수 생성\n",
        "    - randint : 균등분포로 정수 생성\n",
        "    - shuffle : 섞기\n",
        "    - choice : 데이터를 특정 확률로 뽑기"
      ]
    },
    {
      "cell_type": "markdown",
      "metadata": {
        "id": "X1jaWpSC3XM3"
      },
      "source": [
        "##### seed"
      ]
    },
    {
      "cell_type": "code",
      "execution_count": null,
      "metadata": {
        "ExecuteTime": {
          "end_time": "2021-02-02T04:02:41.739869Z",
          "start_time": "2021-02-02T04:02:41.715938Z"
        },
        "colab": {
          "base_uri": "https://localhost:8080/"
        },
        "id": "Ogwdkj-83XM3",
        "outputId": "16f05fd4-238f-4e0e-ba81-8ae641b36087"
      },
      "outputs": [
        {
          "output_type": "execute_result",
          "data": {
            "text/plain": [
              "(array([47, 22, 82, 19, 85, 15, 89, 74, 26, 11]),\n",
              " array([50, 25, 82, 32, 53, 92, 85, 17, 44, 59]),\n",
              " array([47, 22, 82, 19, 85, 15, 89, 74, 26, 11]))"
            ]
          },
          "metadata": {},
          "execution_count": 6
        }
      ],
      "source": [
        "np.random.seed(1)  # arbitrary\n",
        "res1 = np.random.randint(10, 100, 10)\n",
        "\n",
        "np.random.seed(2)\n",
        "res2 = np.random.randint(10, 100, 10)\n",
        "\n",
        "np.random.seed(1)\n",
        "res3 = np.random.randint(10, 100, 10)\n",
        "\n",
        "res1, res2, res3"
      ]
    },
    {
      "cell_type": "markdown",
      "metadata": {
        "id": "jffepUrD3XM3"
      },
      "source": [
        "##### rand"
      ]
    },
    {
      "cell_type": "code",
      "execution_count": null,
      "metadata": {
        "ExecuteTime": {
          "end_time": "2021-02-02T04:03:09.315915Z",
          "start_time": "2021-02-02T04:03:09.301950Z"
        },
        "colab": {
          "base_uri": "https://localhost:8080/"
        },
        "id": "WurhgMHt3XM4",
        "outputId": "c85b1c02-16b1-47c0-b609-ba9c9ee50fae"
      },
      "outputs": [
        {
          "output_type": "execute_result",
          "data": {
            "text/plain": [
              "array([0.18626021, 0.34556073, 0.39676747, 0.53881673, 0.41919451,\n",
              "       0.6852195 , 0.20445225, 0.87811744, 0.02738759, 0.67046751])"
            ]
          },
          "metadata": {},
          "execution_count": 7
        }
      ],
      "source": [
        "np.random.rand(10)"
      ]
    },
    {
      "cell_type": "code",
      "execution_count": null,
      "metadata": {
        "ExecuteTime": {
          "end_time": "2021-02-02T04:03:14.372029Z",
          "start_time": "2021-02-02T04:03:14.354077Z"
        },
        "id": "0s6dEuaB3XM4",
        "outputId": "2a616905-320c-4a02-d92c-69a9e67fc0a1"
      },
      "outputs": [
        {
          "data": {
            "text/plain": [
              "array([0.4173048 , 0.55868983, 0.14038694, 0.19810149, 0.80074457,\n",
              "       0.96826158, 0.31342418, 0.69232262, 0.87638915, 0.89460666])"
            ]
          },
          "execution_count": 13,
          "metadata": {},
          "output_type": "execute_result"
        }
      ],
      "source": [
        "np.random.rand(10)"
      ]
    },
    {
      "cell_type": "code",
      "execution_count": null,
      "metadata": {
        "ExecuteTime": {
          "end_time": "2021-02-02T04:03:53.774231Z",
          "start_time": "2021-02-02T04:03:53.757305Z"
        },
        "id": "xGN5QB4g3XM4",
        "outputId": "f4300a2d-459c-4e64-bb1f-3d18e60b65eb"
      },
      "outputs": [
        {
          "data": {
            "text/plain": [
              "array([0.41919451, 0.6852195 , 0.20445225, 0.87811744, 0.02738759,\n",
              "       0.67046751, 0.4173048 , 0.55868983, 0.14038694, 0.19810149])"
            ]
          },
          "execution_count": 15,
          "metadata": {},
          "output_type": "execute_result"
        }
      ],
      "source": [
        "np.random.rand(10)"
      ]
    },
    {
      "cell_type": "markdown",
      "metadata": {
        "id": "QJQFM2hQ3XM5"
      },
      "source": [
        "##### randn"
      ]
    },
    {
      "cell_type": "code",
      "execution_count": null,
      "metadata": {
        "ExecuteTime": {
          "end_time": "2021-02-02T04:04:26.448528Z",
          "start_time": "2021-02-02T04:04:26.427612Z"
        },
        "id": "UxbVYMeG3XM5",
        "outputId": "c45a042d-cc0b-4c6a-ff99-0fa66142e866"
      },
      "outputs": [
        {
          "data": {
            "text/plain": [
              "array([ 1.13376944, -1.09989127, -0.17242821, -0.87785842,  0.04221375,\n",
              "        0.58281521, -1.10061918,  1.14472371,  0.90159072,  0.50249434])"
            ]
          },
          "execution_count": 16,
          "metadata": {},
          "output_type": "execute_result"
        }
      ],
      "source": [
        "np.random.randn(10)"
      ]
    },
    {
      "cell_type": "markdown",
      "metadata": {
        "id": "4nMr5JiY3XM5"
      },
      "source": [
        "##### randint"
      ]
    },
    {
      "cell_type": "code",
      "execution_count": null,
      "metadata": {
        "ExecuteTime": {
          "end_time": "2021-02-02T04:16:06.671231Z",
          "start_time": "2021-02-02T04:16:06.653279Z"
        },
        "id": "yGo3yzYJ3XM5",
        "outputId": "cfaf4b43-24fe-4b43-e8fa-0ac8b3d1754a"
      },
      "outputs": [
        {
          "data": {
            "text/plain": [
              "array([[7, 7, 1, 1],\n",
              "       [3, 7, 1, 7],\n",
              "       [8, 1, 4, 1],\n",
              "       [4, 5, 8, 6]])"
            ]
          },
          "execution_count": 44,
          "metadata": {},
          "output_type": "execute_result"
        }
      ],
      "source": [
        "x = np.random.randint(1, 10, (4, 4))\n",
        "x"
      ]
    },
    {
      "cell_type": "code",
      "execution_count": null,
      "metadata": {
        "ExecuteTime": {
          "end_time": "2021-02-02T04:16:08.734725Z",
          "start_time": "2021-02-02T04:16:08.721764Z"
        },
        "id": "nubsJY6M3XM6",
        "outputId": "b0b746ea-f708-483e-c29e-c042bdb6a338"
      },
      "outputs": [
        {
          "data": {
            "text/plain": [
              "array([[4, 5, 8, 6],\n",
              "       [3, 7, 1, 7],\n",
              "       [7, 7, 1, 1],\n",
              "       [8, 1, 4, 1]])"
            ]
          },
          "execution_count": 45,
          "metadata": {},
          "output_type": "execute_result"
        }
      ],
      "source": [
        "np.random.shuffle(x)\n",
        "x"
      ]
    },
    {
      "cell_type": "markdown",
      "source": [
        ""
      ],
      "metadata": {
        "id": "PL3IqOh-4ovU"
      }
    }
  ],
  "metadata": {
    "hide_input": false,
    "kernelspec": {
      "display_name": "Python 3",
      "language": "python",
      "name": "python3"
    },
    "language_info": {
      "codemirror_mode": {
        "name": "ipython",
        "version": 3
      },
      "file_extension": ".py",
      "mimetype": "text/x-python",
      "name": "python",
      "nbconvert_exporter": "python",
      "pygments_lexer": "ipython3",
      "version": "3.8.5"
    },
    "toc": {
      "base_numbering": 1,
      "nav_menu": {},
      "number_sections": true,
      "sideBar": true,
      "skip_h1_title": false,
      "title_cell": "Table of Contents",
      "title_sidebar": "Contents",
      "toc_cell": false,
      "toc_position": {},
      "toc_section_display": true,
      "toc_window_display": false
    },
    "varInspector": {
      "cols": {
        "lenName": 16,
        "lenType": 16,
        "lenVar": 40
      },
      "kernels_config": {
        "python": {
          "delete_cmd_postfix": "",
          "delete_cmd_prefix": "del ",
          "library": "var_list.py",
          "varRefreshCmd": "print(var_dic_list())"
        },
        "r": {
          "delete_cmd_postfix": ") ",
          "delete_cmd_prefix": "rm(",
          "library": "var_list.r",
          "varRefreshCmd": "cat(var_dic_list()) "
        }
      },
      "types_to_exclude": [
        "module",
        "function",
        "builtin_function_or_method",
        "instance",
        "_Feature"
      ],
      "window_display": false
    },
    "colab": {
      "name": "lesson 03. numpy 3 - modules statistics, lin,logspace, random.ipynb",
      "provenance": [],
      "include_colab_link": true
    }
  },
  "nbformat": 4,
  "nbformat_minor": 0
}