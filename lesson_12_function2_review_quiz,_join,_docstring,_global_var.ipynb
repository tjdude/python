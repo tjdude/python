{
  "cells": [
    {
      "cell_type": "markdown",
      "metadata": {
        "id": "view-in-github",
        "colab_type": "text"
      },
      "source": [
        "<a href=\"https://colab.research.google.com/github/tjdude/python/blob/main/lesson_12_function2_review_quiz%2C_join%2C_docstring%2C_global_var.ipynb\" target=\"_parent\"><img src=\"https://colab.research.google.com/assets/colab-badge.svg\" alt=\"Open In Colab\"/></a>"
      ]
    },
    {
      "cell_type": "markdown",
      "metadata": {
        "id": "MjcmwOZDAit0"
      },
      "source": [
        "### Quiz\n",
        "  OTP 생성기"
      ]
    },
    {
      "cell_type": "code",
      "execution_count": 3,
      "metadata": {
        "id": "ddAwxyCuAit4",
        "colab": {
          "base_uri": "https://localhost:8080/"
        },
        "outputId": "d6fd2243-8e6f-47a9-f6f8-cb668ded6b96"
      },
      "outputs": [
        {
          "output_type": "execute_result",
          "data": {
            "text/plain": [
              "('228893', '982480')"
            ]
          },
          "metadata": {},
          "execution_count": 3
        }
      ],
      "source": [
        "def genPass():\n",
        "  import random\n",
        "  num = '0123456789'\n",
        "  password = ''\n",
        "\n",
        "  for i in range(6):\n",
        "    idx = random.randrange(len(num))\n",
        "    password+= num[idx]\n",
        "\n",
        "  return password\n",
        "\n",
        "genPass(), genPass()"
      ]
    },
    {
      "cell_type": "code",
      "execution_count": null,
      "metadata": {
        "id": "azXECF2fAit4"
      },
      "outputs": [],
      "source": [
        ""
      ]
    },
    {
      "cell_type": "markdown",
      "metadata": {
        "id": "GOn-NaGhAit5"
      },
      "source": [
        "#### join 문법\n",
        "    - 하나의 문자열로 합칠 수 있는 함수"
      ]
    },
    {
      "cell_type": "code",
      "execution_count": null,
      "metadata": {
        "id": "ZhkwPFnhAit5"
      },
      "outputs": [],
      "source": [
        "ls = [\"python\", \"is\", \"fun,\", \"isn't it?\"]\n",
        " \n",
        "\" \".join(ls) #list안의 데이터들을 한 칸씩 띄우고 합치기"
      ]
    },
    {
      "cell_type": "markdown",
      "metadata": {
        "id": "mvbdijooAit7"
      },
      "source": [
        "#### docstring\n",
        "    - 함수를 선언할 때 함수에 대한 설명"
      ]
    },
    {
      "cell_type": "code",
      "execution_count": 4,
      "metadata": {
        "id": "klwz_R8dAit7"
      },
      "outputs": [],
      "source": [
        "def exam_doc(subj):\n",
        "  \"\"\"\n",
        "  이 함수에 대한 설명을 여기에 작성하면 됩니다\n",
        "  \"\"\"\n",
        "  print(\"docstring 예제\")"
      ]
    },
    {
      "cell_type": "code",
      "execution_count": 5,
      "metadata": {
        "id": "sIBht6JFAit7",
        "colab": {
          "base_uri": "https://localhost:8080/"
        },
        "outputId": "63226ab2-799c-426d-dd89-d60de8bf7a7a"
      },
      "outputs": [
        {
          "output_type": "stream",
          "name": "stdout",
          "text": [
            "docstring 예제\n"
          ]
        }
      ],
      "source": [
        "exam_doc(2)"
      ]
    },
    {
      "cell_type": "code",
      "execution_count": 6,
      "metadata": {
        "id": "L4TA1hzOAit8",
        "colab": {
          "base_uri": "https://localhost:8080/"
        },
        "outputId": "f0584959-0b48-403e-e06f-7bd155d95e29"
      },
      "outputs": [
        {
          "output_type": "stream",
          "name": "stdout",
          "text": [
            "Help on function exam_doc in module __main__:\n",
            "\n",
            "exam_doc(subj)\n",
            "    이 함수에 대한 설명을 여기에 작성하면 됩니다\n",
            "\n"
          ]
        }
      ],
      "source": [
        "help(exam_doc)"
      ]
    },
    {
      "cell_type": "markdown",
      "metadata": {
        "id": "w7aC-zWtAit8"
      },
      "source": [
        "#### 지역변수와 전역변수\n",
        "    - 함수 안에서 선언되는 변수와 밖에서 선언되는 변수의 범위\n",
        "    - global : 전역\n",
        "    - local : 지역"
      ]
    },
    {
      "cell_type": "code",
      "execution_count": 7,
      "metadata": {
        "id": "ijszdEZgAit8",
        "colab": {
          "base_uri": "https://localhost:8080/"
        },
        "outputId": "94dfde09-5758-440b-ddbe-2970d8fbadec"
      },
      "outputs": [
        {
          "output_type": "stream",
          "name": "stdout",
          "text": [
            "수박\n"
          ]
        }
      ],
      "source": [
        "def exam():\n",
        "    print(global_v)\n",
        "\n",
        "global_v = '수박'\n",
        "\n",
        "exam()"
      ]
    },
    {
      "cell_type": "code",
      "execution_count": 9,
      "metadata": {
        "id": "MVsRBTReAit9",
        "colab": {
          "base_uri": "https://localhost:8080/"
        },
        "outputId": "0e4bd4ec-950d-4135-b330-bdcf91defe02"
      },
      "outputs": [
        {
          "output_type": "stream",
          "name": "stdout",
          "text": [
            "바나나\n"
          ]
        }
      ],
      "source": [
        "def exam2():\n",
        "    global_v = '바나나' #내부에서 변수가 선언되면 함수 내부의 값을 사용\n",
        "    print(global_v)\n",
        "\n",
        "exam2()"
      ]
    },
    {
      "cell_type": "code",
      "execution_count": 8,
      "metadata": {
        "id": "r9XiSN_GAit9",
        "colab": {
          "base_uri": "https://localhost:8080/"
        },
        "outputId": "e17662e1-b739-48f8-8410-8be4c7cba793"
      },
      "outputs": [
        {
          "output_type": "stream",
          "name": "stdout",
          "text": [
            "수박\n"
          ]
        }
      ],
      "source": [
        "def exam3():\n",
        "  global global_v\n",
        "  print(global_v)\n",
        "  global_v = '바나나' #여기서 globel_v는 전역변수일까요 지역변수일까요?\n",
        "\n",
        "global_v = '수박'\n",
        "\n",
        "exam3()"
      ]
    }
  ],
  "metadata": {
    "hide_input": false,
    "kernelspec": {
      "display_name": "Python 3",
      "language": "python",
      "name": "python3"
    },
    "language_info": {
      "codemirror_mode": {
        "name": "ipython",
        "version": 3
      },
      "file_extension": ".py",
      "mimetype": "text/x-python",
      "name": "python",
      "nbconvert_exporter": "python",
      "pygments_lexer": "ipython3",
      "version": "3.8.5"
    },
    "toc": {
      "base_numbering": 1,
      "nav_menu": {},
      "number_sections": true,
      "sideBar": true,
      "skip_h1_title": false,
      "title_cell": "Table of Contents",
      "title_sidebar": "Contents",
      "toc_cell": false,
      "toc_position": {},
      "toc_section_display": true,
      "toc_window_display": false
    },
    "varInspector": {
      "cols": {
        "lenName": 16,
        "lenType": 16,
        "lenVar": 40
      },
      "kernels_config": {
        "python": {
          "delete_cmd_postfix": "",
          "delete_cmd_prefix": "del ",
          "library": "var_list.py",
          "varRefreshCmd": "print(var_dic_list())"
        },
        "r": {
          "delete_cmd_postfix": ") ",
          "delete_cmd_prefix": "rm(",
          "library": "var_list.r",
          "varRefreshCmd": "cat(var_dic_list()) "
        }
      },
      "types_to_exclude": [
        "module",
        "function",
        "builtin_function_or_method",
        "instance",
        "_Feature"
      ],
      "window_display": false
    },
    "colab": {
      "name": "lesson 12. function2 - review quiz, join, docstring, global var.ipynb",
      "provenance": [],
      "collapsed_sections": [],
      "include_colab_link": true
    }
  },
  "nbformat": 4,
  "nbformat_minor": 0
}