{
  "nbformat": 4,
  "nbformat_minor": 0,
  "metadata": {
    "colab": {
      "name": "LeNet.ipynb",
      "provenance": [],
      "collapsed_sections": [],
      "include_colab_link": true
    },
    "kernelspec": {
      "name": "python3",
      "display_name": "Python 3"
    },
    "language_info": {
      "name": "python"
    },
    "accelerator": "GPU",
    "gpuClass": "standard"
  },
  "cells": [
    {
      "cell_type": "markdown",
      "metadata": {
        "id": "view-in-github",
        "colab_type": "text"
      },
      "source": [
        "<a href=\"https://colab.research.google.com/github/tjdude/python/blob/main/LeNet.ipynb\" target=\"_parent\"><img src=\"https://colab.research.google.com/assets/colab-badge.svg\" alt=\"Open In Colab\"/></a>"
      ]
    },
    {
      "cell_type": "markdown",
      "source": [
        "# LeNet CNN(Convolution Neural Network) 구현하기 with keras"
      ],
      "metadata": {
        "id": "Sx5vXS25hlBa"
      }
    },
    {
      "cell_type": "markdown",
      "source": [
        "## 1. 모듈 import"
      ],
      "metadata": {
        "id": "4Zitf2FjigTN"
      }
    },
    {
      "cell_type": "code",
      "execution_count": 1,
      "metadata": {
        "id": "ZmCCpOtPg7kV"
      },
      "outputs": [],
      "source": [
        "import tensorflow as tf\n",
        "import keras\n",
        "import matplotlib.pyplot as plt\n",
        "from keras import datasets, layers, models, losses\n",
        "from tensorflow.keras.optimizers import Adam,RMSprop\n",
        "import numpy as np\n",
        "from keras.utils.np_utils import to_categorical\n",
        "from keras import backend"
      ]
    },
    {
      "cell_type": "markdown",
      "source": [
        "## 2. keras에서 제공하는 데이터셋 MNIST 불러오기"
      ],
      "metadata": {
        "id": "Y5y85rzLjErV"
      }
    },
    {
      "cell_type": "code",
      "source": [
        "(x_train,y_train),(x_test,y_test) = datasets.mnist.load_data()\n",
        "x_train.shape"
      ],
      "metadata": {
        "id": "bCfI8C9mif7O",
        "colab": {
          "base_uri": "https://localhost:8080/"
        },
        "outputId": "533f8b3b-bcdf-4ad4-fa0b-92e70fbeeea8"
      },
      "execution_count": 2,
      "outputs": [
        {
          "output_type": "stream",
          "name": "stdout",
          "text": [
            "Downloading data from https://storage.googleapis.com/tensorflow/tf-keras-datasets/mnist.npz\n",
            "11493376/11490434 [==============================] - 0s 0us/step\n",
            "11501568/11490434 [==============================] - 0s 0us/step\n"
          ]
        },
        {
          "output_type": "execute_result",
          "data": {
            "text/plain": [
              "(60000, 28, 28)"
            ]
          },
          "metadata": {},
          "execution_count": 2
        }
      ]
    },
    {
      "cell_type": "markdown",
      "source": [
        "## 3. 데이터셋 로드"
      ],
      "metadata": {
        "id": "6mStDO2BjTUw"
      }
    },
    {
      "cell_type": "code",
      "source": [
        "plt.imshow(x_train[1], cmap='Greys')"
      ],
      "metadata": {
        "id": "jAsWN9MCzDJj",
        "colab": {
          "base_uri": "https://localhost:8080/",
          "height": 282
        },
        "outputId": "afa77602-d307-4976-afe9-eb1d5ecec917"
      },
      "execution_count": null,
      "outputs": [
        {
          "output_type": "execute_result",
          "data": {
            "text/plain": [
              "<matplotlib.image.AxesImage at 0x7f907cb96750>"
            ]
          },
          "metadata": {},
          "execution_count": 26
        },
        {
          "output_type": "display_data",
          "data": {
            "text/plain": [
              "<Figure size 432x288 with 1 Axes>"
            ],
            "image/png": "[encoded data removed]"
          },
          "metadata": {
            "needs_background": "light"
          }
        }
      ]
    },
    {
      "cell_type": "code",
      "source": [
        "plt.imshow(x_train[3], cmap='Greys')"
      ],
      "metadata": {
        "id": "tbkITYL-zFxY",
        "colab": {
          "base_uri": "https://localhost:8080/",
          "height": 282
        },
        "outputId": "aa4f4247-149a-43a9-a5ca-395038515b49"
      },
      "execution_count": null,
      "outputs": [
        {
          "output_type": "execute_result",
          "data": {
            "text/plain": [
              "<matplotlib.image.AxesImage at 0x7f907caeff90>"
            ]
          },
          "metadata": {},
          "execution_count": 27
        },
        {
          "output_type": "display_data",
          "data": {
            "text/plain": [
              "<Figure size 432x288 with 1 Axes>"
            ],
            "image/png": "[encoded data removed]"
          },
          "metadata": {
            "needs_background": "light"
          }
        }
      ]
    },
    {
      "cell_type": "markdown",
      "source": [
        "## 4. 이미지 크기 조정\n",
        "* 원본 LeNet 모델은 32x32 이미지를 input 받습니다.그렇기 때문에 28x28 MNIST 이미지를 패딩하여 32x32이미지로 변경해줍니다.\n"
      ],
      "metadata": {
        "id": "FWxigVc-7Sh3"
      }
    },
    {
      "cell_type": "code",
      "source": [
        "x_train = x_train.astype('float32')\n",
        "x_test = x_test.astype('float32')\n",
        "x_train.shape"
      ],
      "metadata": {
        "id": "atJ0JYz6QYSy",
        "colab": {
          "base_uri": "https://localhost:8080/"
        },
        "outputId": "3b618d58-a648-4d3a-a689-8e19efd766ca"
      },
      "execution_count": null,
      "outputs": [
        {
          "output_type": "execute_result",
          "data": {
            "text/plain": [
              "(60000, 28, 28)"
            ]
          },
          "metadata": {},
          "execution_count": 28
        }
      ]
    },
    {
      "cell_type": "code",
      "source": [
        "x_train = tf.pad(x_train, [[0, 0], [2,2], [2,2]])/255 # [0,0] : 배치 크기 , [2,2] : [top, bottom], [2,2] : [Right,left]\n",
        "x_test = tf.pad(x_test, [[0, 0], [2,2], [2,2]])/255\n",
        "x_train.shape"
      ],
      "metadata": {
        "id": "wzc9JUmEzIhW",
        "colab": {
          "base_uri": "https://localhost:8080/"
        },
        "outputId": "74cee1e7-9cfe-4264-e12f-4934984c90ae"
      },
      "execution_count": null,
      "outputs": [
        {
          "output_type": "execute_result",
          "data": {
            "text/plain": [
              "TensorShape([60000, 32, 32])"
            ]
          },
          "metadata": {},
          "execution_count": 29
        }
      ]
    },
    {
      "cell_type": "markdown",
      "source": [
        "## 5. 채널 정보 추가\n",
        "\n",
        "\n",
        "*   대부분의 CNN은 배치 크기, 높이, 너비 및 채널 차원을 갖는 입력으로 4차원 텐서를 허용받습니다.\n",
        "* MNIST 이미지는 회색조이기 때문에 마지막 차원이 반드시 존재하지 않아도 됩니다.\n",
        "* 텐서를 확장하고 축 번호 3에 더미 차원을 만듭니다.\n"
      ],
      "metadata": {
        "id": "Pqp2qvcZzJQJ"
      }
    },
    {
      "cell_type": "code",
      "source": [
        "x_train = x_train[:, :, :,np.newaxis,]\n",
        "x_test = x_test[:, :, :, np.newaxis]\n",
        "x_train.shape"
      ],
      "metadata": {
        "id": "92rLy4WWzYsv",
        "colab": {
          "base_uri": "https://localhost:8080/"
        },
        "outputId": "120cd17c-6266-4982-bd07-c891ef7c50a2"
      },
      "execution_count": null,
      "outputs": [
        {
          "output_type": "execute_result",
          "data": {
            "text/plain": [
              "TensorShape([60000, 32, 32, 1])"
            ]
          },
          "metadata": {},
          "execution_count": 30
        }
      ]
    },
    {
      "cell_type": "markdown",
      "source": [
        "## 6. Validation set \n",
        "* train : test  = 8 :2\n",
        "* Validation set은 주로 모델의 하이퍼파라미터 조정을 위해 사용됩니다.\n",
        "* 모델 개발 시 검증 분할을 사용하는 것이 좋습니다.\n",
        "* 훈련에 이미지의 80%를 사용하고 검증에 20%를 사용합니다."
      ],
      "metadata": {
        "id": "YHxM2LEy8EP-"
      }
    },
    {
      "cell_type": "code",
      "source": [
        "x_val = x_train[int(-(x_train.shape[0]*0.8)):,:,:,:] \n",
        "y_val = y_train[int(-(x_train.shape[0]*0.8)):] \n",
        "x_train = x_train[:int(-(x_train.shape[0]*0.8)),:,:,:] \n",
        "y_train = y_train[:int(-(x_train.shape[0]*0.8))]\n",
        "train_y = to_categorical(y_train, 10)\n",
        "test_y = to_categorical(y_test, 10)"
      ],
      "metadata": {
        "id": "5nPeFqY98UIK"
      },
      "execution_count": null,
      "outputs": []
    },
    {
      "cell_type": "code",
      "source": [
        "train_y.shape"
      ],
      "metadata": {
        "colab": {
          "base_uri": "https://localhost:8080/"
        },
        "id": "Vj8bD2VDLgRa",
        "outputId": "7b2e4d3c-9c77-4317-d094-7e994e981eb0"
      },
      "execution_count": null,
      "outputs": [
        {
          "output_type": "execute_result",
          "data": {
            "text/plain": [
              "(50400, 10)"
            ]
          },
          "metadata": {},
          "execution_count": 32
        }
      ]
    },
    {
      "cell_type": "markdown",
      "source": [
        "## 6. LeNet 모델 만들기\n",
        "\n",
        "\n"
      ],
      "metadata": {
        "id": "SHdFhMjkzt_g"
      }
    },
    {
      "cell_type": "code",
      "source": [
        "class LeNet:\n",
        "  @staticmethod\n",
        "  def build(input_shape, classes):\n",
        "    model = models.Sequential()\n",
        "    model.add(layers.Conv2D(6, 5, activation='tanh', padding='same',input_shape=input_shape))\n",
        "    model.add(layers.AveragePooling2D(2,padding='same'))\n",
        "    model.add(layers.Conv2D(16, 5, activation='tanh',padding='same'))\n",
        "    model.add(layers.AveragePooling2D(2,padding='same'))\n",
        "    model.add(layers.Conv2D(120, 5, activation='tanh',padding='same'))\n",
        "    model.add(layers.Flatten())\n",
        "    model.add(layers.Dense(84, activation='tanh'))\n",
        "    model.add(layers.Dense(10, activation='softmax'))\n",
        "    return model"
      ],
      "metadata": {
        "id": "oJj0d-u7ztmp"
      },
      "execution_count": null,
      "outputs": []
    },
    {
      "cell_type": "code",
      "source": [
        "model = LeNet.build(input_shape = (32, 32, 1), classes = 10)\n",
        "model.summary()"
      ],
      "metadata": {
        "id": "wGaQItoTxwRs",
        "colab": {
          "base_uri": "https://localhost:8080/"
        },
        "outputId": "64bc93a5-5c85-4979-b330-804583610197"
      },
      "execution_count": null,
      "outputs": [
        {
          "output_type": "stream",
          "name": "stdout",
          "text": [
            "Model: \"sequential_3\"\n",
            "_________________________________________________________________\n",
            " Layer (type)                Output Shape              Param #   \n",
            "=================================================================\n",
            " conv2d_9 (Conv2D)           (None, 32, 32, 6)         156       \n",
            "                                                                 \n",
            " average_pooling2d_6 (Averag  (None, 16, 16, 6)        0         \n",
            " ePooling2D)                                                     \n",
            "                                                                 \n",
            " conv2d_10 (Conv2D)          (None, 16, 16, 16)        2416      \n",
            "                                                                 \n",
            " average_pooling2d_7 (Averag  (None, 8, 8, 16)         0         \n",
            " ePooling2D)                                                     \n",
            "                                                                 \n",
            " conv2d_11 (Conv2D)          (None, 8, 8, 120)         48120     \n",
            "                                                                 \n",
            " flatten_3 (Flatten)         (None, 7680)              0         \n",
            "                                                                 \n",
            " dense_6 (Dense)             (None, 84)                645204    \n",
            "                                                                 \n",
            " dense_7 (Dense)             (None, 10)                850       \n",
            "                                                                 \n",
            "=================================================================\n",
            "Total params: 696,746\n",
            "Trainable params: 696,746\n",
            "Non-trainable params: 0\n",
            "_________________________________________________________________\n"
          ]
        }
      ]
    },
    {
      "cell_type": "markdown",
      "source": [
        "### Sparse Categorical Crossentropy\n",
        "- Multi-class calssification 즉 클래스가 여러 개인 다중 분류 문제에서 사용\n",
        "- label이 정수 인코딩 된 형태 즉, label이 class index를 값으로 가질 때 사용\n",
        "\n",
        "\n",
        ">ex) 예를 들어, 3 class classification 문제에서 label이 0 또는 1또는 2를 값으로 가질때 사용\n",
        "\n",
        "\n",
        "- 모델의 마지막 레이어의 활성화 함수는 소프트맥스\n"
      ],
      "metadata": {
        "id": "RN54cn9PRFtE"
      }
    },
    {
      "cell_type": "code",
      "source": [
        "model.compile(loss = \"sparse_categorical_crossentropy\", optimizer=Adam(), metrics=[\"accuracy\"])"
      ],
      "metadata": {
        "id": "EKF5otPs0U_f"
      },
      "execution_count": null,
      "outputs": []
    },
    {
      "cell_type": "code",
      "source": [
        "history = model.fit(x_train, y_train, batch_size=256, epochs=10, verbose=1, validation_split=0.2)"
      ],
      "metadata": {
        "id": "aNnkthBL0U3X",
        "colab": {
          "base_uri": "https://localhost:8080/"
        },
        "outputId": "926ce651-3d60-4ac0-c07f-bd317e349295"
      },
      "execution_count": null,
      "outputs": [
        {
          "output_type": "stream",
          "name": "stdout",
          "text": [
            "Epoch 1/10\n",
            "38/38 [==============================] - 12s 20ms/step - loss: 0.7368 - accuracy: 0.7845 - val_loss: 0.3223 - val_accuracy: 0.9042\n",
            "Epoch 2/10\n",
            "38/38 [==============================] - 0s 8ms/step - loss: 0.2997 - accuracy: 0.9135 - val_loss: 0.2642 - val_accuracy: 0.9225\n",
            "Epoch 3/10\n",
            "38/38 [==============================] - 0s 8ms/step - loss: 0.2397 - accuracy: 0.9328 - val_loss: 0.2427 - val_accuracy: 0.9267\n",
            "Epoch 4/10\n",
            "38/38 [==============================] - 0s 9ms/step - loss: 0.2064 - accuracy: 0.9414 - val_loss: 0.2274 - val_accuracy: 0.9333\n",
            "Epoch 5/10\n",
            "38/38 [==============================] - 0s 9ms/step - loss: 0.1819 - accuracy: 0.9485 - val_loss: 0.2169 - val_accuracy: 0.9342\n",
            "Epoch 6/10\n",
            "38/38 [==============================] - 0s 9ms/step - loss: 0.1655 - accuracy: 0.9539 - val_loss: 0.2012 - val_accuracy: 0.9408\n",
            "Epoch 7/10\n",
            "38/38 [==============================] - 0s 9ms/step - loss: 0.1457 - accuracy: 0.9589 - val_loss: 0.1955 - val_accuracy: 0.9388\n",
            "Epoch 8/10\n",
            "38/38 [==============================] - 0s 9ms/step - loss: 0.1381 - accuracy: 0.9616 - val_loss: 0.1842 - val_accuracy: 0.9467\n",
            "Epoch 9/10\n",
            "38/38 [==============================] - 0s 9ms/step - loss: 0.1259 - accuracy: 0.9657 - val_loss: 0.1817 - val_accuracy: 0.9442\n",
            "Epoch 10/10\n",
            "38/38 [==============================] - 0s 9ms/step - loss: 0.1140 - accuracy: 0.9700 - val_loss: 0.1776 - val_accuracy: 0.9446\n"
          ]
        }
      ]
    },
    {
      "cell_type": "code",
      "source": [
        "score = model.evaluate(x_test, y_test, verbose=1)"
      ],
      "metadata": {
        "id": "MYxhFZaf0Uwe",
        "colab": {
          "base_uri": "https://localhost:8080/"
        },
        "outputId": "d5ae7867-3b6f-4dec-b7b0-9b02aff05163"
      },
      "execution_count": null,
      "outputs": [
        {
          "output_type": "stream",
          "name": "stdout",
          "text": [
            "313/313 [==============================] - 1s 3ms/step - loss: 0.1967 - accuracy: 0.9424\n"
          ]
        }
      ]
    },
    {
      "cell_type": "markdown",
      "source": [
        "## 7. 최종 정확도\n",
        "* 최종정확도는 epoch가 거듭될수록 좋아지는것을 확인가능하다."
      ],
      "metadata": {
        "id": "5KIaGZNy0a_v"
      }
    },
    {
      "cell_type": "code",
      "source": [
        "print(\"최종 정확도 : \" + str( score[1] * 100 ) + \" %\" )"
      ],
      "metadata": {
        "id": "j93qS8mG0ayv",
        "colab": {
          "base_uri": "https://localhost:8080/"
        },
        "outputId": "93d356a7-e87e-45cc-b767-1e10dd6a88ff"
      },
      "execution_count": null,
      "outputs": [
        {
          "output_type": "stream",
          "name": "stdout",
          "text": [
            "최종 정확도 : 94.23999786376953 %\n"
          ]
        }
      ]
    },
    {
      "cell_type": "code",
      "source": [
        "plt.plot(history.history['accuracy'])"
      ],
      "metadata": {
        "id": "zjBi58r00hO5",
        "colab": {
          "base_uri": "https://localhost:8080/",
          "height": 282
        },
        "outputId": "d1b43e7b-0cf0-4b10-f7db-128aedba6e02"
      },
      "execution_count": null,
      "outputs": [
        {
          "output_type": "execute_result",
          "data": {
            "text/plain": [
              "[<matplotlib.lines.Line2D at 0x7f8fe5029090>]"
            ]
          },
          "metadata": {},
          "execution_count": 46
        },
        {
          "output_type": "display_data",
          "data": {
            "text/plain": [
              "<Figure size 432x288 with 1 Axes>"
            ],
            "image/png": "[encoded data removed]"
          },
          "metadata": {
            "needs_background": "light"
          }
        }
      ]
    },
    {
      "cell_type": "markdown",
      "source": [
        "* validation셋에 대한 정확도 확인가능하며, validation셋에 대한 정확도가 더 중요하다."
      ],
      "metadata": {
        "id": "P0mtKSzd0jo_"
      }
    },
    {
      "cell_type": "code",
      "source": [
        "plt.plot(history.history['val_accuracy'])"
      ],
      "metadata": {
        "id": "nvF9Xj000jHh",
        "colab": {
          "base_uri": "https://localhost:8080/",
          "height": 282
        },
        "outputId": "6bdbc4e2-ae79-42da-c9c1-fb6586d3ad21"
      },
      "execution_count": null,
      "outputs": [
        {
          "output_type": "execute_result",
          "data": {
            "text/plain": [
              "[<matplotlib.lines.Line2D at 0x7f8f83f537d0>]"
            ]
          },
          "metadata": {},
          "execution_count": 47
        },
        {
          "output_type": "display_data",
          "data": {
            "text/plain": [
              "<Figure size 432x288 with 1 Axes>"
            ],
            "image/png": "[encoded data removed]"
          },
          "metadata": {
            "needs_background": "light"
          }
        }
      ]
    },
    {
      "cell_type": "code",
      "source": [
        "print(\"최종 정확도 : \" + str( score[1] * 100 ) + \" %\" )"
      ],
      "metadata": {
        "id": "bvOjtxz805km",
        "colab": {
          "base_uri": "https://localhost:8080/"
        },
        "outputId": "3020299d-146b-4e1f-9f90-413db24fab8e"
      },
      "execution_count": null,
      "outputs": [
        {
          "output_type": "stream",
          "name": "stdout",
          "text": [
            "최종 정확도 : 94.23999786376953 %\n"
          ]
        }
      ]
    },
    {
      "cell_type": "markdown",
      "source": [
        "## 8. 여러가지 파라미터 교체\n",
        "\n",
        "\n",
        "*   optimizer를 RMSprop\n",
        "* activation function ReLu로 모델교체\n",
        "* pool과 stride를 교체(2->3)\n",
        "\n"
      ],
      "metadata": {
        "id": "nypdLuqz08_m"
      }
    },
    {
      "cell_type": "code",
      "source": [
        "(x_train,y_train),(x_test,y_test) = datasets.mnist.load_data()\n",
        "x_train = x_train.astype('float32')\n",
        "x_test = x_test.astype('float32')\n",
        "x_train = tf.pad(x_train, [[0, 0], [2,2], [2,2]])/255\n",
        "x_test = tf.pad(x_test, [[0, 0], [2,2], [2,2]])/255\n",
        "x_train = x_train[:, :, :,np.newaxis,]\n",
        "x_test = x_test[:, :, :, np.newaxis]\n",
        "x_val = x_train[int(-(x_train.shape[0]*0.8)):,:,:,:] \n",
        "y_val = y_train[int(-(x_train.shape[0]*0.8)):] \n",
        "x_train = x_train[:int(-(x_train.shape[0]*0.8)),:,:,:] \n",
        "y_train = y_train[:int(-(x_train.shape[0]*0.8))]\n",
        "train_y = to_categorical(y_train, 10)\n",
        "test_y = to_categorical(y_test, 10)"
      ],
      "metadata": {
        "id": "g38CPkkF06qO"
      },
      "execution_count": null,
      "outputs": []
    },
    {
      "cell_type": "code",
      "source": [
        "class LeNet:\n",
        "  @staticmethod\n",
        "  def build(input_shape, classes):\n",
        "    model = models.Sequential()\n",
        "    model.add(layers.Conv2D(6, 5, activation='relu', padding='same',input_shape=input_shape))\n",
        "    model.add(layers.AveragePooling2D(3,padding='same'))\n",
        "    model.add(layers.Conv2D(16, 5, activation='relu',padding='same'))\n",
        "    model.add(layers.AveragePooling2D(3,padding='same'))\n",
        "    model.add(layers.Conv2D(120, 5, activation='relu',padding='same'))\n",
        "    model.add(layers.Flatten())\n",
        "    model.add(layers.Dense(84, activation='relu'))\n",
        "    model.add(layers.Dense(10, activation='softmax'))\n",
        "    return model\n",
        "model.summary()"
      ],
      "metadata": {
        "colab": {
          "base_uri": "https://localhost:8080/"
        },
        "id": "Vadz5tS3WDNH",
        "outputId": "3f83ad69-2990-4038-9d2f-716741c06ce2"
      },
      "execution_count": null,
      "outputs": [
        {
          "output_type": "stream",
          "name": "stdout",
          "text": [
            "Model: \"sequential_6\"\n",
            "_________________________________________________________________\n",
            " Layer (type)                Output Shape              Param #   \n",
            "=================================================================\n",
            " conv2d_18 (Conv2D)          (None, 32, 32, 6)         156       \n",
            "                                                                 \n",
            " average_pooling2d_12 (Avera  (None, 16, 16, 6)        0         \n",
            " gePooling2D)                                                    \n",
            "                                                                 \n",
            " conv2d_19 (Conv2D)          (None, 16, 16, 16)        2416      \n",
            "                                                                 \n",
            " average_pooling2d_13 (Avera  (None, 8, 8, 16)         0         \n",
            " gePooling2D)                                                    \n",
            "                                                                 \n",
            " conv2d_20 (Conv2D)          (None, 8, 8, 120)         48120     \n",
            "                                                                 \n",
            " flatten_6 (Flatten)         (None, 7680)              0         \n",
            "                                                                 \n",
            " dense_12 (Dense)            (None, 84)                645204    \n",
            "                                                                 \n",
            " dense_13 (Dense)            (None, 10)                850       \n",
            "                                                                 \n",
            "=================================================================\n",
            "Total params: 696,746\n",
            "Trainable params: 696,746\n",
            "Non-trainable params: 0\n",
            "_________________________________________________________________\n"
          ]
        }
      ]
    },
    {
      "cell_type": "code",
      "source": [
        "model = LeNet.build(input_shape = (32, 32, 1), classes = 10)"
      ],
      "metadata": {
        "id": "20r8AQbaXQxe"
      },
      "execution_count": null,
      "outputs": []
    },
    {
      "cell_type": "markdown",
      "source": [
        "### RMS prop , ReLU"
      ],
      "metadata": {
        "id": "vOuj8zS2XxuX"
      }
    },
    {
      "cell_type": "code",
      "source": [
        "model.compile(loss = \"sparse_categorical_crossentropy\", optimizer=RMSprop(), metrics=[\"accuracy\"])"
      ],
      "metadata": {
        "id": "YTpNnOeLXTem"
      },
      "execution_count": null,
      "outputs": []
    },
    {
      "cell_type": "code",
      "source": [
        "history = model.fit(x_train, y_train, batch_size=256, epochs=10, verbose=1, validation_split=0.2)"
      ],
      "metadata": {
        "colab": {
          "base_uri": "https://localhost:8080/"
        },
        "id": "nvLb6wR6UxHi",
        "outputId": "d1b049d9-50e3-402b-99ae-aec4e04d4b0b"
      },
      "execution_count": null,
      "outputs": [
        {
          "output_type": "stream",
          "name": "stdout",
          "text": [
            "Epoch 1/10\n",
            "182/182 [==============================] - 2s 8ms/step - loss: 0.8136 - accuracy: 0.7346 - val_loss: 0.5683 - val_accuracy: 0.8166\n",
            "Epoch 2/10\n",
            "182/182 [==============================] - 1s 7ms/step - loss: 0.2845 - accuracy: 0.9110 - val_loss: 0.1884 - val_accuracy: 0.9381\n",
            "Epoch 3/10\n",
            "182/182 [==============================] - 1s 7ms/step - loss: 0.1738 - accuracy: 0.9457 - val_loss: 0.1669 - val_accuracy: 0.9467\n",
            "Epoch 4/10\n",
            "182/182 [==============================] - 1s 7ms/step - loss: 0.1218 - accuracy: 0.9621 - val_loss: 0.1823 - val_accuracy: 0.9409\n",
            "Epoch 5/10\n",
            "182/182 [==============================] - 1s 7ms/step - loss: 0.0969 - accuracy: 0.9694 - val_loss: 0.1543 - val_accuracy: 0.9491\n",
            "Epoch 6/10\n",
            "182/182 [==============================] - 1s 7ms/step - loss: 0.0790 - accuracy: 0.9752 - val_loss: 0.1335 - val_accuracy: 0.9584\n",
            "Epoch 7/10\n",
            "182/182 [==============================] - 1s 7ms/step - loss: 0.0676 - accuracy: 0.9783 - val_loss: 0.0821 - val_accuracy: 0.9744\n",
            "Epoch 8/10\n",
            "182/182 [==============================] - 1s 7ms/step - loss: 0.0581 - accuracy: 0.9811 - val_loss: 0.0802 - val_accuracy: 0.9758\n",
            "Epoch 9/10\n",
            "182/182 [==============================] - 1s 8ms/step - loss: 0.0512 - accuracy: 0.9833 - val_loss: 0.0750 - val_accuracy: 0.9770\n",
            "Epoch 10/10\n",
            "182/182 [==============================] - 1s 7ms/step - loss: 0.0452 - accuracy: 0.9854 - val_loss: 0.1499 - val_accuracy: 0.9491\n"
          ]
        }
      ]
    },
    {
      "cell_type": "code",
      "source": [
        "score = model.evaluate(x_test, y_test, verbose=1)\n",
        "print(\"최종 정확도 : \" + str( score[1] * 100 ) + \" %\" )"
      ],
      "metadata": {
        "colab": {
          "base_uri": "https://localhost:8080/"
        },
        "id": "VkZat-ojU5if",
        "outputId": "fe84b246-fcf9-4189-c2c4-f55ae4d9e659"
      },
      "execution_count": null,
      "outputs": [
        {
          "output_type": "stream",
          "name": "stdout",
          "text": [
            "313/313 [==============================] - 1s 3ms/step - loss: 0.1372 - accuracy: 0.9514\n",
            "최종 정확도 : 95.13999819755554 %\n"
          ]
        }
      ]
    },
    {
      "cell_type": "markdown",
      "source": [
        "Adam, ReLU"
      ],
      "metadata": {
        "id": "UCxuHMVfX163"
      }
    },
    {
      "cell_type": "code",
      "source": [
        "model.compile(loss = \"sparse_categorical_crossentropy\", optimizer=Adam(), metrics=[\"accuracy\"])"
      ],
      "metadata": {
        "id": "k11k4IqJyRD6"
      },
      "execution_count": null,
      "outputs": []
    },
    {
      "cell_type": "code",
      "source": [
        "history = model.fit(x_train, y_train, batch_size=256, epochs=10, verbose=1, validation_split=0.2)"
      ],
      "metadata": {
        "colab": {
          "base_uri": "https://localhost:8080/"
        },
        "id": "6H5Jy6g5Xvrv",
        "outputId": "2cdd2faf-800c-4771-8690-cbcdf06a471c"
      },
      "execution_count": null,
      "outputs": [
        {
          "output_type": "stream",
          "name": "stdout",
          "text": [
            "Epoch 1/10\n",
            "182/182 [==============================] - 2s 8ms/step - loss: 0.0377 - accuracy: 0.9879 - val_loss: 0.0613 - val_accuracy: 0.9817\n",
            "Epoch 2/10\n",
            "182/182 [==============================] - 1s 6ms/step - loss: 0.0346 - accuracy: 0.9894 - val_loss: 0.0630 - val_accuracy: 0.9822\n",
            "Epoch 3/10\n",
            "182/182 [==============================] - 1s 6ms/step - loss: 0.0291 - accuracy: 0.9902 - val_loss: 0.0550 - val_accuracy: 0.9846\n",
            "Epoch 4/10\n",
            "182/182 [==============================] - 1s 6ms/step - loss: 0.0255 - accuracy: 0.9918 - val_loss: 0.0517 - val_accuracy: 0.9852\n",
            "Epoch 5/10\n",
            "182/182 [==============================] - 1s 8ms/step - loss: 0.0242 - accuracy: 0.9920 - val_loss: 0.0475 - val_accuracy: 0.9847\n",
            "Epoch 6/10\n",
            "182/182 [==============================] - 1s 6ms/step - loss: 0.0206 - accuracy: 0.9936 - val_loss: 0.0568 - val_accuracy: 0.9844\n",
            "Epoch 7/10\n",
            "182/182 [==============================] - 1s 6ms/step - loss: 0.0209 - accuracy: 0.9928 - val_loss: 0.0509 - val_accuracy: 0.9846\n",
            "Epoch 8/10\n",
            "182/182 [==============================] - 1s 6ms/step - loss: 0.0175 - accuracy: 0.9939 - val_loss: 0.0538 - val_accuracy: 0.9850\n",
            "Epoch 9/10\n",
            "182/182 [==============================] - 1s 6ms/step - loss: 0.0170 - accuracy: 0.9944 - val_loss: 0.0580 - val_accuracy: 0.9829\n",
            "Epoch 10/10\n",
            "182/182 [==============================] - 1s 7ms/step - loss: 0.0164 - accuracy: 0.9948 - val_loss: 0.0527 - val_accuracy: 0.9856\n"
          ]
        }
      ]
    },
    {
      "cell_type": "code",
      "source": [
        "score = model.evaluate(x_test, y_test, verbose=1)\n",
        "print(\"최종 정확도 : \" + str( score[1] * 100 ) + \" %\" )"
      ],
      "metadata": {
        "colab": {
          "base_uri": "https://localhost:8080/"
        },
        "id": "rNjs6Yv3XwoX",
        "outputId": "a58cd16d-2579-4fbd-f932-a50a75dc759b"
      },
      "execution_count": null,
      "outputs": [
        {
          "output_type": "stream",
          "name": "stdout",
          "text": [
            "313/313 [==============================] - 1s 3ms/step - loss: 0.0438 - accuracy: 0.9870\n",
            "최종 정확도 : 98.69999885559082 %\n"
          ]
        }
      ]
    }
  ]
}