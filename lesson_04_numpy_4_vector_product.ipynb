{
  "nbformat": 4,
  "nbformat_minor": 0,
  "metadata": {
    "colab": {
      "name": "lesson 04. numpy 4 - vector product.ipynb",
      "provenance": [],
      "collapsed_sections": [],
      "include_colab_link": true
    },
    "kernelspec": {
      "name": "python3",
      "display_name": "Python 3"
    },
    "language_info": {
      "name": "python"
    }
  },
  "cells": [
    {
      "cell_type": "markdown",
      "metadata": {
        "id": "view-in-github",
        "colab_type": "text"
      },
      "source": [
        "<a href=\"https://colab.research.google.com/github/tjdude/python/blob/main/lesson_04_numpy_4_vector_product.ipynb\" target=\"_parent\"><img src=\"https://colab.research.google.com/assets/colab-badge.svg\" alt=\"Open In Colab\"/></a>"
      ]
    },
    {
      "cell_type": "markdown",
      "source": [
        "### inner product"
      ],
      "metadata": {
        "id": "8Oa5SlBmuk4z"
      }
    },
    {
      "cell_type": "code",
      "execution_count": null,
      "metadata": {
        "id": "CYNkfzU-ub5Y"
      },
      "outputs": [],
      "source": [
        "import numpy as np\n",
        "a = np.random.randint(0,10,(2,4))\n",
        "b = np.random.randint(0,10,(2,4))"
      ]
    },
    {
      "cell_type": "code",
      "source": [
        "np.dot(a,b.T)"
      ],
      "metadata": {
        "colab": {
          "base_uri": "https://localhost:8080/"
        },
        "id": "q1J84B1yukan",
        "outputId": "3c151caa-4a67-4d53-d5f8-46a7e2bd91e9"
      },
      "execution_count": null,
      "outputs": [
        {
          "output_type": "execute_result",
          "data": {
            "text/plain": [
              "array([[84, 16],\n",
              "       [70, 29]])"
            ]
          },
          "metadata": {},
          "execution_count": 10
        }
      ]
    },
    {
      "cell_type": "code",
      "source": [
        "np.inner(a,b)"
      ],
      "metadata": {
        "colab": {
          "base_uri": "https://localhost:8080/"
        },
        "id": "c4tCQWy8vIsT",
        "outputId": "92c63d3c-e1c7-46f7-f46a-c138704bc945"
      },
      "execution_count": null,
      "outputs": [
        {
          "output_type": "execute_result",
          "data": {
            "text/plain": [
              "array([[84, 16],\n",
              "       [70, 29]])"
            ]
          },
          "metadata": {},
          "execution_count": 11
        }
      ]
    },
    {
      "cell_type": "markdown",
      "source": [
        " - numpy.inner : 1차원 또는 2차원 배열일 경우 내적을 위해 두 번째 행렬을 전치한 다음 곱해준다.\n",
        " - numpy.dot : 2차원 배열의 경우 행렬곱 연산을 수행하며 1차원 배열일 경우 벡터의 내적에 해당한다. "
      ],
      "metadata": {
        "id": "qgqb_MzRviLj"
      }
    },
    {
      "cell_type": "code",
      "source": [
        "np.inner(a,b.T)"
      ],
      "metadata": {
        "id": "dXj0msJHv2Lf"
      },
      "execution_count": null,
      "outputs": []
    },
    {
      "cell_type": "markdown",
      "source": [
        "### 고유값, 고유벡터"
      ],
      "metadata": {
        "id": "5D74H613v8I3"
      }
    },
    {
      "cell_type": "code",
      "source": [
        "a = np.array([[1,-1], [1,1]])"
      ],
      "metadata": {
        "id": "3HTN1u92v7-D"
      },
      "execution_count": null,
      "outputs": []
    },
    {
      "cell_type": "code",
      "source": [
        "value, vector = np.linalg.eig(a)\n",
        "value, vector"
      ],
      "metadata": {
        "colab": {
          "base_uri": "https://localhost:8080/"
        },
        "id": "ChFeIcK2v7EH",
        "outputId": "b60c254c-d8fc-4ef4-d134-f58a36d62d1a"
      },
      "execution_count": null,
      "outputs": [
        {
          "output_type": "execute_result",
          "data": {
            "text/plain": [
              "(array([1.+1.j, 1.-1.j]),\n",
              " array([[0.70710678+0.j        , 0.70710678-0.j        ],\n",
              "        [0.        -0.70710678j, 0.        +0.70710678j]]))"
            ]
          },
          "metadata": {},
          "execution_count": 13
        }
      ]
    },
    {
      "cell_type": "code",
      "source": [
        "arr = np.random.randn(3,3)"
      ],
      "metadata": {
        "id": "rx9DoDNt78ue"
      },
      "execution_count": null,
      "outputs": []
    }
  ]
}